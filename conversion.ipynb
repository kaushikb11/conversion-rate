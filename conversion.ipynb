{
 "cells": [
  {
   "cell_type": "markdown",
   "metadata": {},
   "source": [
    "Importing the required libraries"
   ]
  },
  {
   "cell_type": "code",
   "execution_count": 21,
   "metadata": {
    "collapsed": true
   },
   "outputs": [],
   "source": [
    "import pandas as pd\n",
    "from pandas.tools.plotting import scatter_matrix\n",
    "from matplotlib import pyplot\n",
    "import sklearn\n",
    "from sklearn.model_selection import train_test_split\n",
    "from sklearn.model_selection import KFold\n",
    "from sklearn.model_selection import cross_val_score\n",
    "from sklearn.metrics import classification_report\n",
    "from sklearn.metrics import confusion_matrix\n",
    "from sklearn.metrics import accuracy_score\n",
    "from sklearn.linear_model import LogisticRegression\n",
    "from sklearn.tree import DecisionTreeClassifier\n",
    "from sklearn.neighbors import KNeighborsClassifier\n",
    "from sklearn.discriminant_analysis import LinearDiscriminantAnalysis\n",
    "from sklearn.naive_bayes import GaussianNB\n",
    "from sklearn.svm import SVC\n",
    "%matplotlib inline\n",
    "import numpy as np\n",
    "import seaborn as sns"
   ]
  },
  {
   "cell_type": "code",
   "execution_count": 7,
   "metadata": {
    "collapsed": true
   },
   "outputs": [],
   "source": [
    "#Creating a dataframe df using pandas\n",
    "df = pd.read_csv(\"Toy_Dataset.xlsx - Toy_Dataset.csv\")"
   ]
  },
  {
   "cell_type": "code",
   "execution_count": 8,
   "metadata": {},
   "outputs": [
    {
     "data": {
      "text/plain": [
       "(100865, 18)"
      ]
     },
     "execution_count": 8,
     "metadata": {},
     "output_type": "execute_result"
    }
   ],
   "source": [
    "#Getting to know the dimensions of the dataset as well as the number of features\n",
    "df.shape"
   ]
  },
  {
   "cell_type": "code",
   "execution_count": 12,
   "metadata": {},
   "outputs": [
    {
     "data": {
      "text/html": [
       "<div>\n",
       "<style>\n",
       "    .dataframe thead tr:only-child th {\n",
       "        text-align: right;\n",
       "    }\n",
       "\n",
       "    .dataframe thead th {\n",
       "        text-align: left;\n",
       "    }\n",
       "\n",
       "    .dataframe tbody tr th {\n",
       "        vertical-align: top;\n",
       "    }\n",
       "</style>\n",
       "<table border=\"1\" class=\"dataframe\">\n",
       "  <thead>\n",
       "    <tr style=\"text-align: right;\">\n",
       "      <th></th>\n",
       "      <th>index</th>\n",
       "      <th>user_id</th>\n",
       "      <th>gender</th>\n",
       "      <th>age</th>\n",
       "      <th>start_bmi</th>\n",
       "      <th>activity_factor</th>\n",
       "      <th>OS</th>\n",
       "      <th>connected_pedometer</th>\n",
       "      <th>hypothyroid</th>\n",
       "      <th>diabetes</th>\n",
       "      <th>pcos</th>\n",
       "      <th>physical</th>\n",
       "      <th>hypertension</th>\n",
       "      <th>high_blood_pressure</th>\n",
       "      <th>cholesterol</th>\n",
       "      <th>medical_conditions</th>\n",
       "      <th>devicebrand</th>\n",
       "      <th>paid</th>\n",
       "    </tr>\n",
       "  </thead>\n",
       "  <tbody>\n",
       "    <tr>\n",
       "      <th>0</th>\n",
       "      <td>109000</td>\n",
       "      <td>2224406.0</td>\n",
       "      <td>male</td>\n",
       "      <td>44.0</td>\n",
       "      <td>32.7</td>\n",
       "      <td>1.725</td>\n",
       "      <td>ios</td>\n",
       "      <td>NaN</td>\n",
       "      <td>0</td>\n",
       "      <td>0</td>\n",
       "      <td>0</td>\n",
       "      <td>0</td>\n",
       "      <td>0</td>\n",
       "      <td>0</td>\n",
       "      <td>0</td>\n",
       "      <td>0</td>\n",
       "      <td>apple</td>\n",
       "      <td>0</td>\n",
       "    </tr>\n",
       "    <tr>\n",
       "      <th>1</th>\n",
       "      <td>109001</td>\n",
       "      <td>2224394.0</td>\n",
       "      <td>female</td>\n",
       "      <td>63.0</td>\n",
       "      <td>33.7</td>\n",
       "      <td>1.200</td>\n",
       "      <td>android</td>\n",
       "      <td>NaN</td>\n",
       "      <td>0</td>\n",
       "      <td>0</td>\n",
       "      <td>0</td>\n",
       "      <td>0</td>\n",
       "      <td>0</td>\n",
       "      <td>0</td>\n",
       "      <td>0</td>\n",
       "      <td>0</td>\n",
       "      <td>motorola</td>\n",
       "      <td>0</td>\n",
       "    </tr>\n",
       "    <tr>\n",
       "      <th>2</th>\n",
       "      <td>109002</td>\n",
       "      <td>2224399.0</td>\n",
       "      <td>male</td>\n",
       "      <td>141.0</td>\n",
       "      <td>31.4</td>\n",
       "      <td>1.550</td>\n",
       "      <td>android</td>\n",
       "      <td>NaN</td>\n",
       "      <td>0</td>\n",
       "      <td>0</td>\n",
       "      <td>0</td>\n",
       "      <td>0</td>\n",
       "      <td>1</td>\n",
       "      <td>0</td>\n",
       "      <td>0</td>\n",
       "      <td>1</td>\n",
       "      <td>samsung</td>\n",
       "      <td>0</td>\n",
       "    </tr>\n",
       "    <tr>\n",
       "      <th>3</th>\n",
       "      <td>109003</td>\n",
       "      <td>2224448.0</td>\n",
       "      <td>male</td>\n",
       "      <td>107.0</td>\n",
       "      <td>34.9</td>\n",
       "      <td>1.200</td>\n",
       "      <td>android</td>\n",
       "      <td>google_fit</td>\n",
       "      <td>0</td>\n",
       "      <td>0</td>\n",
       "      <td>0</td>\n",
       "      <td>0</td>\n",
       "      <td>0</td>\n",
       "      <td>0</td>\n",
       "      <td>0</td>\n",
       "      <td>0</td>\n",
       "      <td>vivo</td>\n",
       "      <td>0</td>\n",
       "    </tr>\n",
       "    <tr>\n",
       "      <th>4</th>\n",
       "      <td>109004</td>\n",
       "      <td>2224393.0</td>\n",
       "      <td>female</td>\n",
       "      <td>98.0</td>\n",
       "      <td>37.8</td>\n",
       "      <td>1.375</td>\n",
       "      <td>android</td>\n",
       "      <td>NaN</td>\n",
       "      <td>1</td>\n",
       "      <td>0</td>\n",
       "      <td>0</td>\n",
       "      <td>0</td>\n",
       "      <td>0</td>\n",
       "      <td>0</td>\n",
       "      <td>0</td>\n",
       "      <td>1</td>\n",
       "      <td>samsung</td>\n",
       "      <td>0</td>\n",
       "    </tr>\n",
       "  </tbody>\n",
       "</table>\n",
       "</div>"
      ],
      "text/plain": [
       "    index    user_id  gender    age  start_bmi  activity_factor       OS  \\\n",
       "0  109000  2224406.0    male   44.0       32.7            1.725      ios   \n",
       "1  109001  2224394.0  female   63.0       33.7            1.200  android   \n",
       "2  109002  2224399.0    male  141.0       31.4            1.550  android   \n",
       "3  109003  2224448.0    male  107.0       34.9            1.200  android   \n",
       "4  109004  2224393.0  female   98.0       37.8            1.375  android   \n",
       "\n",
       "  connected_pedometer  hypothyroid  diabetes  pcos  physical  hypertension  \\\n",
       "0                 NaN            0         0     0         0             0   \n",
       "1                 NaN            0         0     0         0             0   \n",
       "2                 NaN            0         0     0         0             1   \n",
       "3          google_fit            0         0     0         0             0   \n",
       "4                 NaN            1         0     0         0             0   \n",
       "\n",
       "   high_blood_pressure  cholesterol  medical_conditions devicebrand  paid  \n",
       "0                    0            0                   0       apple     0  \n",
       "1                    0            0                   0    motorola     0  \n",
       "2                    0            0                   1     samsung     0  \n",
       "3                    0            0                   0        vivo     0  \n",
       "4                    0            0                   1     samsung     0  "
      ]
     },
     "execution_count": 12,
     "metadata": {},
     "output_type": "execute_result"
    }
   ],
   "source": [
    "#Overview of the dataset and conclude the nature of the features as ordinal,nominal,continuous,etc\n",
    "df.head()"
   ]
  },
  {
   "cell_type": "code",
   "execution_count": 13,
   "metadata": {},
   "outputs": [
    {
     "data": {
      "text/html": [
       "<div>\n",
       "<style>\n",
       "    .dataframe thead tr:only-child th {\n",
       "        text-align: right;\n",
       "    }\n",
       "\n",
       "    .dataframe thead th {\n",
       "        text-align: left;\n",
       "    }\n",
       "\n",
       "    .dataframe tbody tr th {\n",
       "        vertical-align: top;\n",
       "    }\n",
       "</style>\n",
       "<table border=\"1\" class=\"dataframe\">\n",
       "  <thead>\n",
       "    <tr style=\"text-align: right;\">\n",
       "      <th></th>\n",
       "      <th>index</th>\n",
       "      <th>user_id</th>\n",
       "      <th>age</th>\n",
       "      <th>start_bmi</th>\n",
       "      <th>activity_factor</th>\n",
       "      <th>hypothyroid</th>\n",
       "      <th>diabetes</th>\n",
       "      <th>pcos</th>\n",
       "      <th>physical</th>\n",
       "      <th>hypertension</th>\n",
       "      <th>high_blood_pressure</th>\n",
       "      <th>cholesterol</th>\n",
       "      <th>medical_conditions</th>\n",
       "      <th>paid</th>\n",
       "    </tr>\n",
       "  </thead>\n",
       "  <tbody>\n",
       "    <tr>\n",
       "      <th>count</th>\n",
       "      <td>100865.000000</td>\n",
       "      <td>9.186500e+04</td>\n",
       "      <td>91863.000000</td>\n",
       "      <td>90394.000000</td>\n",
       "      <td>100858.000000</td>\n",
       "      <td>100865.000000</td>\n",
       "      <td>100865.000000</td>\n",
       "      <td>100865.000000</td>\n",
       "      <td>100865.000000</td>\n",
       "      <td>100865.000000</td>\n",
       "      <td>100865.000000</td>\n",
       "      <td>100865.000000</td>\n",
       "      <td>100865.000000</td>\n",
       "      <td>100865.000000</td>\n",
       "    </tr>\n",
       "    <tr>\n",
       "      <th>mean</th>\n",
       "      <td>159432.000000</td>\n",
       "      <td>2.320608e+06</td>\n",
       "      <td>83.169263</td>\n",
       "      <td>33.524202</td>\n",
       "      <td>1.374217</td>\n",
       "      <td>0.102295</td>\n",
       "      <td>0.057532</td>\n",
       "      <td>0.058167</td>\n",
       "      <td>0.034422</td>\n",
       "      <td>0.084816</td>\n",
       "      <td>0.000902</td>\n",
       "      <td>0.083260</td>\n",
       "      <td>0.345987</td>\n",
       "      <td>0.010321</td>\n",
       "    </tr>\n",
       "    <tr>\n",
       "      <th>std</th>\n",
       "      <td>29117.361788</td>\n",
       "      <td>5.948612e+04</td>\n",
       "      <td>30.235619</td>\n",
       "      <td>4.969434</td>\n",
       "      <td>0.172002</td>\n",
       "      <td>0.303038</td>\n",
       "      <td>0.232858</td>\n",
       "      <td>0.234060</td>\n",
       "      <td>0.182312</td>\n",
       "      <td>0.278610</td>\n",
       "      <td>0.030023</td>\n",
       "      <td>0.276276</td>\n",
       "      <td>0.475691</td>\n",
       "      <td>0.101066</td>\n",
       "    </tr>\n",
       "    <tr>\n",
       "      <th>min</th>\n",
       "      <td>109000.000000</td>\n",
       "      <td>2.224380e+06</td>\n",
       "      <td>14.000000</td>\n",
       "      <td>7.400000</td>\n",
       "      <td>1.200000</td>\n",
       "      <td>0.000000</td>\n",
       "      <td>0.000000</td>\n",
       "      <td>0.000000</td>\n",
       "      <td>0.000000</td>\n",
       "      <td>0.000000</td>\n",
       "      <td>0.000000</td>\n",
       "      <td>0.000000</td>\n",
       "      <td>0.000000</td>\n",
       "      <td>0.000000</td>\n",
       "    </tr>\n",
       "    <tr>\n",
       "      <th>25%</th>\n",
       "      <td>134216.000000</td>\n",
       "      <td>2.270432e+06</td>\n",
       "      <td>58.000000</td>\n",
       "      <td>30.000000</td>\n",
       "      <td>1.200000</td>\n",
       "      <td>0.000000</td>\n",
       "      <td>0.000000</td>\n",
       "      <td>0.000000</td>\n",
       "      <td>0.000000</td>\n",
       "      <td>0.000000</td>\n",
       "      <td>0.000000</td>\n",
       "      <td>0.000000</td>\n",
       "      <td>0.000000</td>\n",
       "      <td>0.000000</td>\n",
       "    </tr>\n",
       "    <tr>\n",
       "      <th>50%</th>\n",
       "      <td>159432.000000</td>\n",
       "      <td>2.315781e+06</td>\n",
       "      <td>83.000000</td>\n",
       "      <td>33.100000</td>\n",
       "      <td>1.375000</td>\n",
       "      <td>0.000000</td>\n",
       "      <td>0.000000</td>\n",
       "      <td>0.000000</td>\n",
       "      <td>0.000000</td>\n",
       "      <td>0.000000</td>\n",
       "      <td>0.000000</td>\n",
       "      <td>0.000000</td>\n",
       "      <td>0.000000</td>\n",
       "      <td>0.000000</td>\n",
       "    </tr>\n",
       "    <tr>\n",
       "      <th>75%</th>\n",
       "      <td>184648.000000</td>\n",
       "      <td>2.368546e+06</td>\n",
       "      <td>108.000000</td>\n",
       "      <td>36.300000</td>\n",
       "      <td>1.550000</td>\n",
       "      <td>0.000000</td>\n",
       "      <td>0.000000</td>\n",
       "      <td>0.000000</td>\n",
       "      <td>0.000000</td>\n",
       "      <td>0.000000</td>\n",
       "      <td>0.000000</td>\n",
       "      <td>0.000000</td>\n",
       "      <td>1.000000</td>\n",
       "      <td>0.000000</td>\n",
       "    </tr>\n",
       "    <tr>\n",
       "      <th>max</th>\n",
       "      <td>209864.000000</td>\n",
       "      <td>2.437677e+06</td>\n",
       "      <td>186.000000</td>\n",
       "      <td>99.800000</td>\n",
       "      <td>1.725000</td>\n",
       "      <td>1.000000</td>\n",
       "      <td>1.000000</td>\n",
       "      <td>1.000000</td>\n",
       "      <td>1.000000</td>\n",
       "      <td>1.000000</td>\n",
       "      <td>1.000000</td>\n",
       "      <td>1.000000</td>\n",
       "      <td>1.000000</td>\n",
       "      <td>1.000000</td>\n",
       "    </tr>\n",
       "  </tbody>\n",
       "</table>\n",
       "</div>"
      ],
      "text/plain": [
       "               index       user_id           age     start_bmi  \\\n",
       "count  100865.000000  9.186500e+04  91863.000000  90394.000000   \n",
       "mean   159432.000000  2.320608e+06     83.169263     33.524202   \n",
       "std     29117.361788  5.948612e+04     30.235619      4.969434   \n",
       "min    109000.000000  2.224380e+06     14.000000      7.400000   \n",
       "25%    134216.000000  2.270432e+06     58.000000     30.000000   \n",
       "50%    159432.000000  2.315781e+06     83.000000     33.100000   \n",
       "75%    184648.000000  2.368546e+06    108.000000     36.300000   \n",
       "max    209864.000000  2.437677e+06    186.000000     99.800000   \n",
       "\n",
       "       activity_factor    hypothyroid       diabetes           pcos  \\\n",
       "count    100858.000000  100865.000000  100865.000000  100865.000000   \n",
       "mean          1.374217       0.102295       0.057532       0.058167   \n",
       "std           0.172002       0.303038       0.232858       0.234060   \n",
       "min           1.200000       0.000000       0.000000       0.000000   \n",
       "25%           1.200000       0.000000       0.000000       0.000000   \n",
       "50%           1.375000       0.000000       0.000000       0.000000   \n",
       "75%           1.550000       0.000000       0.000000       0.000000   \n",
       "max           1.725000       1.000000       1.000000       1.000000   \n",
       "\n",
       "            physical   hypertension  high_blood_pressure    cholesterol  \\\n",
       "count  100865.000000  100865.000000        100865.000000  100865.000000   \n",
       "mean        0.034422       0.084816             0.000902       0.083260   \n",
       "std         0.182312       0.278610             0.030023       0.276276   \n",
       "min         0.000000       0.000000             0.000000       0.000000   \n",
       "25%         0.000000       0.000000             0.000000       0.000000   \n",
       "50%         0.000000       0.000000             0.000000       0.000000   \n",
       "75%         0.000000       0.000000             0.000000       0.000000   \n",
       "max         1.000000       1.000000             1.000000       1.000000   \n",
       "\n",
       "       medical_conditions           paid  \n",
       "count       100865.000000  100865.000000  \n",
       "mean             0.345987       0.010321  \n",
       "std              0.475691       0.101066  \n",
       "min              0.000000       0.000000  \n",
       "25%              0.000000       0.000000  \n",
       "50%              0.000000       0.000000  \n",
       "75%              1.000000       0.000000  \n",
       "max              1.000000       1.000000  "
      ]
     },
     "execution_count": 13,
     "metadata": {},
     "output_type": "execute_result"
    }
   ],
   "source": [
    "#Understanding the measure of central tendency and summarizing the data\n",
    "df.describe()"
   ]
  },
  {
   "cell_type": "code",
   "execution_count": 14,
   "metadata": {},
   "outputs": [
    {
     "data": {
      "text/plain": [
       "index                      0\n",
       "user_id                 9000\n",
       "gender                     2\n",
       "age                     9002\n",
       "start_bmi              10471\n",
       "activity_factor            7\n",
       "OS                         0\n",
       "connected_pedometer    79513\n",
       "hypothyroid                0\n",
       "diabetes                   0\n",
       "pcos                       0\n",
       "physical                   0\n",
       "hypertension               0\n",
       "high_blood_pressure        0\n",
       "cholesterol                0\n",
       "medical_conditions         0\n",
       "devicebrand                0\n",
       "paid                       0\n",
       "dtype: int64"
      ]
     },
     "execution_count": 14,
     "metadata": {},
     "output_type": "execute_result"
    }
   ],
   "source": [
    "#Checking for total null values\n",
    "df.isnull().sum()"
   ]
  },
  {
   "cell_type": "code",
   "execution_count": 15,
   "metadata": {},
   "outputs": [
    {
     "name": "stdout",
     "output_type": "stream",
     "text": [
      "paid\n",
      "0    99824\n",
      "1     1041\n",
      "dtype: int64\n"
     ]
    }
   ],
   "source": [
    "# class distribution. As you can see , it is a highly imbalanced dataset\n",
    "print(df.groupby('paid').size())"
   ]
  },
  {
   "cell_type": "code",
   "execution_count": 16,
   "metadata": {},
   "outputs": [
    {
     "data": {
      "text/plain": [
       "paid  gender\n",
       "0     female    47419\n",
       "      male      52403\n",
       "1     female      493\n",
       "      male        548\n",
       "Name: paid, dtype: int64"
      ]
     },
     "execution_count": 16,
     "metadata": {},
     "output_type": "execute_result"
    }
   ],
   "source": [
    "#Creating a DataFrame Groupby object by the target variable \"paid\" and the gender of the user\n",
    "df.groupby(['paid','gender'])['paid'].count()"
   ]
  },
  {
   "cell_type": "code",
   "execution_count": 23,
   "metadata": {},
   "outputs": [
    {
     "data": {
      "image/png": "[encoded data removed]",
      "text/plain": [
       "<matplotlib.figure.Figure at 0x29f1511f630>"
      ]
     },
     "metadata": {},
     "output_type": "display_data"
    }
   ],
   "source": [
    "f,ax=pyplot.subplots(1,2,figsize=(18,8))\n",
    "df[['gender','paid']].groupby(['gender']).mean().plot.bar(ax=ax[0])\n",
    "ax[0].set_title('Paid vs Gender')\n",
    "sns.countplot('gender',hue='paid',data=df,ax=ax[1])\n",
    "ax[1].set_title('Gender:Paid vs Free')\n",
    "pyplot.show()"
   ]
  },
  {
   "cell_type": "code",
   "execution_count": 24,
   "metadata": {},
   "outputs": [
    {
     "data": {
      "text/plain": [
       "paid  OS     \n",
       "0     android    85599\n",
       "      both         306\n",
       "      ios        13919\n",
       "1     android      901\n",
       "      both           5\n",
       "      ios          135\n",
       "Name: paid, dtype: int64"
      ]
     },
     "execution_count": 24,
     "metadata": {},
     "output_type": "execute_result"
    }
   ],
   "source": [
    "##Creating a DataFrame Groupby object by the target variable \"paid\" and Operating System of the user's phone\n",
    "df.groupby(['paid','OS'])['paid'].count()"
   ]
  },
  {
   "cell_type": "code",
   "execution_count": 25,
   "metadata": {},
   "outputs": [
    {
     "data": {
      "image/png": "[encoded data removed]",
      "text/plain": [
       "<matplotlib.figure.Figure at 0x29f152dd710>"
      ]
     },
     "metadata": {},
     "output_type": "display_data"
    }
   ],
   "source": [
    "f,ax=pyplot.subplots(1,2,figsize=(18,8))\n",
    "df[['OS','paid']].groupby(['OS']).mean().plot.bar(ax=ax[0])\n",
    "ax[0].set_title('Paid vs Operating System')\n",
    "sns.countplot('OS',hue='paid',data=df,ax=ax[1])\n",
    "ax[1].set_title('Operating System:Paid vs Free')\n",
    "pyplot.show()"
   ]
  },
  {
   "cell_type": "code",
   "execution_count": 28,
   "metadata": {},
   "outputs": [],
   "source": [
    "#df.groupby(['paid','devicebrand'])['paid'].count()"
   ]
  },
  {
   "cell_type": "code",
   "execution_count": 30,
   "metadata": {},
   "outputs": [
    {
     "data": {
      "text/html": [
       "<style  type=\"text/css\" >\n",
       "    #T_7681705e_5852_11e8_af7d_94533090f4b0row0_col0 {\n",
       "            background-color:  #88c366;\n",
       "        }    #T_7681705e_5852_11e8_af7d_94533090f4b0row0_col1 {\n",
       "            background-color:  #95ca66;\n",
       "        }    #T_7681705e_5852_11e8_af7d_94533090f4b0row0_col2 {\n",
       "            background-color:  #88c366;\n",
       "        }    #T_7681705e_5852_11e8_af7d_94533090f4b0row0_col3 {\n",
       "            background-color:  #88c366;\n",
       "        }    #T_7681705e_5852_11e8_af7d_94533090f4b0row1_col0 {\n",
       "            background-color:  #ffff66;\n",
       "        }    #T_7681705e_5852_11e8_af7d_94533090f4b0row1_col1 {\n",
       "            background-color:  #ffff66;\n",
       "        }    #T_7681705e_5852_11e8_af7d_94533090f4b0row1_col2 {\n",
       "            background-color:  #ffff66;\n",
       "        }    #T_7681705e_5852_11e8_af7d_94533090f4b0row1_col3 {\n",
       "            background-color:  #ffff66;\n",
       "        }    #T_7681705e_5852_11e8_af7d_94533090f4b0row2_col0 {\n",
       "            background-color:  #7bbd66;\n",
       "        }    #T_7681705e_5852_11e8_af7d_94533090f4b0row2_col1 {\n",
       "            background-color:  #70b866;\n",
       "        }    #T_7681705e_5852_11e8_af7d_94533090f4b0row2_col2 {\n",
       "            background-color:  #7bbd66;\n",
       "        }    #T_7681705e_5852_11e8_af7d_94533090f4b0row2_col3 {\n",
       "            background-color:  #7bbd66;\n",
       "        }    #T_7681705e_5852_11e8_af7d_94533090f4b0row3_col0 {\n",
       "            background-color:  #ffff66;\n",
       "        }    #T_7681705e_5852_11e8_af7d_94533090f4b0row3_col1 {\n",
       "            background-color:  #ffff66;\n",
       "        }    #T_7681705e_5852_11e8_af7d_94533090f4b0row3_col2 {\n",
       "            background-color:  #ffff66;\n",
       "        }    #T_7681705e_5852_11e8_af7d_94533090f4b0row3_col3 {\n",
       "            background-color:  #ffff66;\n",
       "        }    #T_7681705e_5852_11e8_af7d_94533090f4b0row4_col0 {\n",
       "            background-color:  #008066;\n",
       "        }    #T_7681705e_5852_11e8_af7d_94533090f4b0row4_col1 {\n",
       "            background-color:  #008066;\n",
       "        }    #T_7681705e_5852_11e8_af7d_94533090f4b0row4_col2 {\n",
       "            background-color:  #008066;\n",
       "        }    #T_7681705e_5852_11e8_af7d_94533090f4b0row4_col3 {\n",
       "            background-color:  #008066;\n",
       "        }</style>  \n",
       "<table id=\"T_7681705e_5852_11e8_af7d_94533090f4b0\" > \n",
       "<thead>    <tr> \n",
       "        <th class=\"blank\" ></th> \n",
       "        <th class=\"index_name level0\" >OS</th> \n",
       "        <th class=\"col_heading level0 col0\" >android</th> \n",
       "        <th class=\"col_heading level0 col1\" >both</th> \n",
       "        <th class=\"col_heading level0 col2\" >ios</th> \n",
       "        <th class=\"col_heading level0 col3\" >All</th> \n",
       "    </tr>    <tr> \n",
       "        <th class=\"index_name level0\" >gender</th> \n",
       "        <th class=\"index_name level1\" >paid</th> \n",
       "        <th class=\"blank\" ></th> \n",
       "        <th class=\"blank\" ></th> \n",
       "        <th class=\"blank\" ></th> \n",
       "        <th class=\"blank\" ></th> \n",
       "    </tr></thead> \n",
       "<tbody>    <tr> \n",
       "        <th id=\"T_7681705e_5852_11e8_af7d_94533090f4b0level0_row0\" class=\"row_heading level0 row0\" rowspan=2>female</th> \n",
       "        <th id=\"T_7681705e_5852_11e8_af7d_94533090f4b0level1_row0\" class=\"row_heading level1 row0\" >0</th> \n",
       "        <td id=\"T_7681705e_5852_11e8_af7d_94533090f4b0row0_col0\" class=\"data row0 col0\" >40676</td> \n",
       "        <td id=\"T_7681705e_5852_11e8_af7d_94533090f4b0row0_col1\" class=\"data row0 col1\" >131</td> \n",
       "        <td id=\"T_7681705e_5852_11e8_af7d_94533090f4b0row0_col2\" class=\"data row0 col2\" >6612</td> \n",
       "        <td id=\"T_7681705e_5852_11e8_af7d_94533090f4b0row0_col3\" class=\"data row0 col3\" >47419</td> \n",
       "    </tr>    <tr> \n",
       "        <th id=\"T_7681705e_5852_11e8_af7d_94533090f4b0level1_row1\" class=\"row_heading level1 row1\" >1</th> \n",
       "        <td id=\"T_7681705e_5852_11e8_af7d_94533090f4b0row1_col0\" class=\"data row1 col0\" >432</td> \n",
       "        <td id=\"T_7681705e_5852_11e8_af7d_94533090f4b0row1_col1\" class=\"data row1 col1\" >3</td> \n",
       "        <td id=\"T_7681705e_5852_11e8_af7d_94533090f4b0row1_col2\" class=\"data row1 col2\" >58</td> \n",
       "        <td id=\"T_7681705e_5852_11e8_af7d_94533090f4b0row1_col3\" class=\"data row1 col3\" >493</td> \n",
       "    </tr>    <tr> \n",
       "        <th id=\"T_7681705e_5852_11e8_af7d_94533090f4b0level0_row2\" class=\"row_heading level0 row2\" rowspan=2>male</th> \n",
       "        <th id=\"T_7681705e_5852_11e8_af7d_94533090f4b0level1_row2\" class=\"row_heading level1 row2\" >0</th> \n",
       "        <td id=\"T_7681705e_5852_11e8_af7d_94533090f4b0row2_col0\" class=\"data row2 col0\" >44921</td> \n",
       "        <td id=\"T_7681705e_5852_11e8_af7d_94533090f4b0row2_col1\" class=\"data row2 col1\" >175</td> \n",
       "        <td id=\"T_7681705e_5852_11e8_af7d_94533090f4b0row2_col2\" class=\"data row2 col2\" >7307</td> \n",
       "        <td id=\"T_7681705e_5852_11e8_af7d_94533090f4b0row2_col3\" class=\"data row2 col3\" >52403</td> \n",
       "    </tr>    <tr> \n",
       "        <th id=\"T_7681705e_5852_11e8_af7d_94533090f4b0level1_row3\" class=\"row_heading level1 row3\" >1</th> \n",
       "        <td id=\"T_7681705e_5852_11e8_af7d_94533090f4b0row3_col0\" class=\"data row3 col0\" >469</td> \n",
       "        <td id=\"T_7681705e_5852_11e8_af7d_94533090f4b0row3_col1\" class=\"data row3 col1\" >2</td> \n",
       "        <td id=\"T_7681705e_5852_11e8_af7d_94533090f4b0row3_col2\" class=\"data row3 col2\" >77</td> \n",
       "        <td id=\"T_7681705e_5852_11e8_af7d_94533090f4b0row3_col3\" class=\"data row3 col3\" >548</td> \n",
       "    </tr>    <tr> \n",
       "        <th id=\"T_7681705e_5852_11e8_af7d_94533090f4b0level0_row4\" class=\"row_heading level0 row4\" >All</th> \n",
       "        <th id=\"T_7681705e_5852_11e8_af7d_94533090f4b0level1_row4\" class=\"row_heading level1 row4\" ></th> \n",
       "        <td id=\"T_7681705e_5852_11e8_af7d_94533090f4b0row4_col0\" class=\"data row4 col0\" >86498</td> \n",
       "        <td id=\"T_7681705e_5852_11e8_af7d_94533090f4b0row4_col1\" class=\"data row4 col1\" >311</td> \n",
       "        <td id=\"T_7681705e_5852_11e8_af7d_94533090f4b0row4_col2\" class=\"data row4 col2\" >14054</td> \n",
       "        <td id=\"T_7681705e_5852_11e8_af7d_94533090f4b0row4_col3\" class=\"data row4 col3\" >100863</td> \n",
       "    </tr></tbody> \n",
       "</table> "
      ],
      "text/plain": [
       "<pandas.io.formats.style.Styler at 0x29f15e4ed68>"
      ]
     },
     "execution_count": 30,
     "metadata": {},
     "output_type": "execute_result"
    }
   ],
   "source": [
    "#Getting some insight on relation of gender and OS with the target varibale \"paid\". Asking the question that does both columns effect the outcome of target variable?\n",
    "pd.crosstab([df.gender,df.paid],df.OS,margins=True).style.background_gradient(cmap='summer_r')"
   ]
  },
  {
   "cell_type": "code",
   "execution_count": 35,
   "metadata": {},
   "outputs": [
    {
     "name": "stdout",
     "output_type": "stream",
     "text": [
      "percentage of Free transacation is 98.96792742774996\n",
      "percentage of Paid transacation 1.0320725722500372\n"
     ]
    }
   ],
   "source": [
    "# now let us check in the number of Percentage\n",
    "Count_Free_transacation = len(df[df[\"paid\"]==0]) # normal transaction are repersented by 0\n",
    "Count_Paid_transacation = len(df[df[\"paid\"]==1]) # fraud by 1\n",
    "Percentage_of_Free_transacation = Count_Free_transacation/(Count_Free_transacation+Count_Paid_transacation)\n",
    "print(\"percentage of Free transacation is\",Percentage_of_Free_transacation*100)\n",
    "Percentage_of_Paid_transacation= Count_Paid_transacation/(Count_Free_transacation+Count_Paid_transacation)\n",
    "print(\"percentage of Paid transacation\",Percentage_of_Paid_transacation*100)\n"
   ]
  },
  {
   "cell_type": "markdown",
   "metadata": {},
   "source": [
    "Imbalanced classes put “accuracy” out of business. This is a surprisingly common problem in machine learning (specifically in classification), occurring in datasets with a disproportionate ratio of observations in each class.\n",
    "Standard accuracy no longer reliably measures performance, which makes model training much trickier.\n",
    "\n",
    "Up-sampling is the process of randomly duplicating observations from the minority class in order to reinforce its signal."
   ]
  },
  {
   "cell_type": "code",
   "execution_count": 38,
   "metadata": {
    "collapsed": true
   },
   "outputs": [],
   "source": [
    "#First, we'll separate observations from each class into different DataFrames.\n",
    "df_majority = df[df.paid==0]\n",
    "df_minority = df[df.paid==1]\n",
    "from sklearn.utils import resample"
   ]
  },
  {
   "cell_type": "code",
   "execution_count": 39,
   "metadata": {},
   "outputs": [],
   "source": [
    "#Next, we'll resample the minority class with replacement, setting the number of samples to match that of the majority class.\n",
    "df_minority_upsampled = resample(df_minority, \n",
    "                                 replace=True,     # sample with replacement\n",
    "                                 n_samples=99824,    # to match majority class\n",
    "                                 random_state=123) # reproducible results"
   ]
  },
  {
   "cell_type": "code",
   "execution_count": 41,
   "metadata": {},
   "outputs": [
    {
     "data": {
      "text/plain": [
       "1    99824\n",
       "0    99824\n",
       "Name: paid, dtype: int64"
      ]
     },
     "execution_count": 41,
     "metadata": {},
     "output_type": "execute_result"
    }
   ],
   "source": [
    "#Finally, we'll combine the up-sampled minority class DataFrame with the original majority class DataFrame.\n",
    "df_upsampled = pd.concat([df_majority, df_minority_upsampled])\n",
    " \n",
    "# Display new class counts\n",
    "df_upsampled.paid.value_counts()"
   ]
  },
  {
   "cell_type": "code",
   "execution_count": 42,
   "metadata": {},
   "outputs": [
    {
     "data": {
      "text/plain": [
       "paid  gender\n",
       "0     female    47419\n",
       "      male      52403\n",
       "1     female    47197\n",
       "      male      52627\n",
       "Name: paid, dtype: int64"
      ]
     },
     "execution_count": 42,
     "metadata": {},
     "output_type": "execute_result"
    }
   ],
   "source": [
    "#There are more male users than females but it is evident that the gender won't affect conversion as of a stand alone feature\n",
    "df_upsampled.groupby(['paid','gender'])['paid'].count()"
   ]
  },
  {
   "cell_type": "code",
   "execution_count": 43,
   "metadata": {},
   "outputs": [
    {
     "data": {
      "image/png": "[encoded data removed]",
      "text/plain": [
       "<matplotlib.figure.Figure at 0x29f15383978>"
      ]
     },
     "metadata": {},
     "output_type": "display_data"
    }
   ],
   "source": [
    "f,ax=pyplot.subplots(1,2,figsize=(18,8))\n",
    "df_upsampled[['gender','paid']].groupby(['gender']).mean().plot.bar(ax=ax[0])\n",
    "ax[0].set_title('Paid vs Gender')\n",
    "sns.countplot('gender',hue='paid',data=df_upsampled,ax=ax[1])\n",
    "ax[1].set_title('Gender:Paid vs Free')\n",
    "pyplot.show()"
   ]
  },
  {
   "cell_type": "code",
   "execution_count": 44,
   "metadata": {},
   "outputs": [
    {
     "data": {
      "text/plain": [
       "paid  OS     \n",
       "0     android    85599\n",
       "      both         306\n",
       "      ios        13919\n",
       "1     android    86405\n",
       "      both         512\n",
       "      ios        12907\n",
       "Name: paid, dtype: int64"
      ]
     },
     "execution_count": 44,
     "metadata": {},
     "output_type": "execute_result"
    }
   ],
   "source": [
    "df_upsampled.groupby(['paid','OS'])['paid'].count()"
   ]
  },
  {
   "cell_type": "code",
   "execution_count": 45,
   "metadata": {},
   "outputs": [
    {
     "data": {
      "image/png": "[encoded data removed]",
      "text/plain": [
       "<matplotlib.figure.Figure at 0x29f122fb358>"
      ]
     },
     "metadata": {},
     "output_type": "display_data"
    }
   ],
   "source": [
    "f,ax=pyplot.subplots(1,2,figsize=(18,8))\n",
    "df_upsampled[['OS','paid']].groupby(['OS']).mean().plot.bar(ax=ax[0])\n",
    "ax[0].set_title('Paid vs Operating System')\n",
    "sns.countplot('OS',hue='paid',data=df_upsampled,ax=ax[1])\n",
    "ax[1].set_title('Operating System:Paid vs Free')\n",
    "pyplot.show()"
   ]
  },
  {
   "cell_type": "code",
   "execution_count": 46,
   "metadata": {
    "collapsed": true
   },
   "outputs": [],
   "source": [
    "missing_values_count = df_upsampled.isnull().sum()"
   ]
  },
  {
   "cell_type": "code",
   "execution_count": 48,
   "metadata": {},
   "outputs": [
    {
     "data": {
      "text/html": [
       "<style  type=\"text/css\" >\n",
       "    #T_c4b2e0ec_585e_11e8_9f7c_94533090f4b0row0_col0 {\n",
       "            background-color:  #249266;\n",
       "        }    #T_c4b2e0ec_585e_11e8_9f7c_94533090f4b0row0_col1 {\n",
       "            background-color:  #229066;\n",
       "        }    #T_c4b2e0ec_585e_11e8_9f7c_94533090f4b0row0_col2 {\n",
       "            background-color:  #239166;\n",
       "        }    #T_c4b2e0ec_585e_11e8_9f7c_94533090f4b0row1_col0 {\n",
       "            background-color:  #ffff66;\n",
       "        }    #T_c4b2e0ec_585e_11e8_9f7c_94533090f4b0row1_col1 {\n",
       "            background-color:  #ffff66;\n",
       "        }    #T_c4b2e0ec_585e_11e8_9f7c_94533090f4b0row1_col2 {\n",
       "            background-color:  #ffff66;\n",
       "        }    #T_c4b2e0ec_585e_11e8_9f7c_94533090f4b0row2_col0 {\n",
       "            background-color:  #dcee66;\n",
       "        }    #T_c4b2e0ec_585e_11e8_9f7c_94533090f4b0row2_col1 {\n",
       "            background-color:  #e0f066;\n",
       "        }    #T_c4b2e0ec_585e_11e8_9f7c_94533090f4b0row2_col2 {\n",
       "            background-color:  #deee66;\n",
       "        }    #T_c4b2e0ec_585e_11e8_9f7c_94533090f4b0row3_col0 {\n",
       "            background-color:  #008066;\n",
       "        }    #T_c4b2e0ec_585e_11e8_9f7c_94533090f4b0row3_col1 {\n",
       "            background-color:  #008066;\n",
       "        }    #T_c4b2e0ec_585e_11e8_9f7c_94533090f4b0row3_col2 {\n",
       "            background-color:  #008066;\n",
       "        }</style>  \n",
       "<table id=\"T_c4b2e0ec_585e_11e8_9f7c_94533090f4b0\" > \n",
       "<thead>    <tr> \n",
       "        <th class=\"index_name level0\" >paid</th> \n",
       "        <th class=\"col_heading level0 col0\" >0</th> \n",
       "        <th class=\"col_heading level0 col1\" >1</th> \n",
       "        <th class=\"col_heading level0 col2\" >All</th> \n",
       "    </tr>    <tr> \n",
       "        <th class=\"index_name level0\" >OS</th> \n",
       "        <th class=\"blank\" ></th> \n",
       "        <th class=\"blank\" ></th> \n",
       "        <th class=\"blank\" ></th> \n",
       "    </tr></thead> \n",
       "<tbody>    <tr> \n",
       "        <th id=\"T_c4b2e0ec_585e_11e8_9f7c_94533090f4b0level0_row0\" class=\"row_heading level0 row0\" >android</th> \n",
       "        <td id=\"T_c4b2e0ec_585e_11e8_9f7c_94533090f4b0row0_col0\" class=\"data row0 col0\" >85599</td> \n",
       "        <td id=\"T_c4b2e0ec_585e_11e8_9f7c_94533090f4b0row0_col1\" class=\"data row0 col1\" >86405</td> \n",
       "        <td id=\"T_c4b2e0ec_585e_11e8_9f7c_94533090f4b0row0_col2\" class=\"data row0 col2\" >172004</td> \n",
       "    </tr>    <tr> \n",
       "        <th id=\"T_c4b2e0ec_585e_11e8_9f7c_94533090f4b0level0_row1\" class=\"row_heading level0 row1\" >both</th> \n",
       "        <td id=\"T_c4b2e0ec_585e_11e8_9f7c_94533090f4b0row1_col0\" class=\"data row1 col0\" >306</td> \n",
       "        <td id=\"T_c4b2e0ec_585e_11e8_9f7c_94533090f4b0row1_col1\" class=\"data row1 col1\" >512</td> \n",
       "        <td id=\"T_c4b2e0ec_585e_11e8_9f7c_94533090f4b0row1_col2\" class=\"data row1 col2\" >818</td> \n",
       "    </tr>    <tr> \n",
       "        <th id=\"T_c4b2e0ec_585e_11e8_9f7c_94533090f4b0level0_row2\" class=\"row_heading level0 row2\" >ios</th> \n",
       "        <td id=\"T_c4b2e0ec_585e_11e8_9f7c_94533090f4b0row2_col0\" class=\"data row2 col0\" >13919</td> \n",
       "        <td id=\"T_c4b2e0ec_585e_11e8_9f7c_94533090f4b0row2_col1\" class=\"data row2 col1\" >12907</td> \n",
       "        <td id=\"T_c4b2e0ec_585e_11e8_9f7c_94533090f4b0row2_col2\" class=\"data row2 col2\" >26826</td> \n",
       "    </tr>    <tr> \n",
       "        <th id=\"T_c4b2e0ec_585e_11e8_9f7c_94533090f4b0level0_row3\" class=\"row_heading level0 row3\" >All</th> \n",
       "        <td id=\"T_c4b2e0ec_585e_11e8_9f7c_94533090f4b0row3_col0\" class=\"data row3 col0\" >99824</td> \n",
       "        <td id=\"T_c4b2e0ec_585e_11e8_9f7c_94533090f4b0row3_col1\" class=\"data row3 col1\" >99824</td> \n",
       "        <td id=\"T_c4b2e0ec_585e_11e8_9f7c_94533090f4b0row3_col2\" class=\"data row3 col2\" >199648</td> \n",
       "    </tr></tbody> \n",
       "</table> "
      ],
      "text/plain": [
       "<pandas.io.formats.style.Styler at 0x29f15754b00>"
      ]
     },
     "execution_count": 48,
     "metadata": {},
     "output_type": "execute_result"
    }
   ],
   "source": [
    "pd.crosstab(df_upsampled.OS,df_upsampled.paid,margins=True).style.background_gradient(cmap='summer_r')"
   ]
  },
  {
   "cell_type": "code",
   "execution_count": 49,
   "metadata": {},
   "outputs": [
    {
     "data": {
      "text/html": [
       "<style  type=\"text/css\" >\n",
       "    #T_87150a74_585f_11e8_b94f_94533090f4b0row0_col0 {\n",
       "            background-color:  #ffff66;\n",
       "        }    #T_87150a74_585f_11e8_b94f_94533090f4b0row0_col1 {\n",
       "            background-color:  #ffff66;\n",
       "        }    #T_87150a74_585f_11e8_b94f_94533090f4b0row0_col2 {\n",
       "            background-color:  #f4fa66;\n",
       "        }    #T_87150a74_585f_11e8_b94f_94533090f4b0row0_col3 {\n",
       "            background-color:  #ffff66;\n",
       "        }    #T_87150a74_585f_11e8_b94f_94533090f4b0row1_col0 {\n",
       "            background-color:  #fefe66;\n",
       "        }    #T_87150a74_585f_11e8_b94f_94533090f4b0row1_col1 {\n",
       "            background-color:  #bfdf66;\n",
       "        }    #T_87150a74_585f_11e8_b94f_94533090f4b0row1_col2 {\n",
       "            background-color:  #ffff66;\n",
       "        }    #T_87150a74_585f_11e8_b94f_94533090f4b0row1_col3 {\n",
       "            background-color:  #ffff66;\n",
       "        }    #T_87150a74_585f_11e8_b94f_94533090f4b0row2_col0 {\n",
       "            background-color:  #f7fb66;\n",
       "        }    #T_87150a74_585f_11e8_b94f_94533090f4b0row2_col1 {\n",
       "            background-color:  #eff766;\n",
       "        }    #T_87150a74_585f_11e8_b94f_94533090f4b0row2_col2 {\n",
       "            background-color:  #ecf666;\n",
       "        }    #T_87150a74_585f_11e8_b94f_94533090f4b0row2_col3 {\n",
       "            background-color:  #f7fb66;\n",
       "        }    #T_87150a74_585f_11e8_b94f_94533090f4b0row3_col0 {\n",
       "            background-color:  #f7fb66;\n",
       "        }    #T_87150a74_585f_11e8_b94f_94533090f4b0row3_col1 {\n",
       "            background-color:  #e3f166;\n",
       "        }    #T_87150a74_585f_11e8_b94f_94533090f4b0row3_col2 {\n",
       "            background-color:  #ecf666;\n",
       "        }    #T_87150a74_585f_11e8_b94f_94533090f4b0row3_col3 {\n",
       "            background-color:  #f6fa66;\n",
       "        }    #T_87150a74_585f_11e8_b94f_94533090f4b0row4_col0 {\n",
       "            background-color:  #008066;\n",
       "        }    #T_87150a74_585f_11e8_b94f_94533090f4b0row4_col1 {\n",
       "            background-color:  #008066;\n",
       "        }    #T_87150a74_585f_11e8_b94f_94533090f4b0row4_col2 {\n",
       "            background-color:  #008066;\n",
       "        }    #T_87150a74_585f_11e8_b94f_94533090f4b0row4_col3 {\n",
       "            background-color:  #008066;\n",
       "        }</style>  \n",
       "<table id=\"T_87150a74_585f_11e8_b94f_94533090f4b0\" > \n",
       "<thead>    <tr> \n",
       "        <th class=\"blank\" ></th> \n",
       "        <th class=\"index_name level0\" >OS</th> \n",
       "        <th class=\"col_heading level0 col0\" >android</th> \n",
       "        <th class=\"col_heading level0 col1\" >both</th> \n",
       "        <th class=\"col_heading level0 col2\" >ios</th> \n",
       "        <th class=\"col_heading level0 col3\" >All</th> \n",
       "    </tr>    <tr> \n",
       "        <th class=\"index_name level0\" >gender</th> \n",
       "        <th class=\"index_name level1\" >paid</th> \n",
       "        <th class=\"blank\" ></th> \n",
       "        <th class=\"blank\" ></th> \n",
       "        <th class=\"blank\" ></th> \n",
       "        <th class=\"blank\" ></th> \n",
       "    </tr></thead> \n",
       "<tbody>    <tr> \n",
       "        <th id=\"T_87150a74_585f_11e8_b94f_94533090f4b0level0_row0\" class=\"row_heading level0 row0\" rowspan=2>female</th> \n",
       "        <th id=\"T_87150a74_585f_11e8_b94f_94533090f4b0level1_row0\" class=\"row_heading level1 row0\" >0</th> \n",
       "        <td id=\"T_87150a74_585f_11e8_b94f_94533090f4b0row0_col0\" class=\"data row0 col0\" >40676</td> \n",
       "        <td id=\"T_87150a74_585f_11e8_b94f_94533090f4b0row0_col1\" class=\"data row0 col1\" >131</td> \n",
       "        <td id=\"T_87150a74_585f_11e8_b94f_94533090f4b0row0_col2\" class=\"data row0 col2\" >6612</td> \n",
       "        <td id=\"T_87150a74_585f_11e8_b94f_94533090f4b0row0_col3\" class=\"data row0 col3\" >47419</td> \n",
       "    </tr>    <tr> \n",
       "        <th id=\"T_87150a74_585f_11e8_b94f_94533090f4b0level1_row1\" class=\"row_heading level1 row1\" >1</th> \n",
       "        <td id=\"T_87150a74_585f_11e8_b94f_94533090f4b0row1_col0\" class=\"data row1 col0\" >41237</td> \n",
       "        <td id=\"T_87150a74_585f_11e8_b94f_94533090f4b0row1_col1\" class=\"data row1 col1\" >305</td> \n",
       "        <td id=\"T_87150a74_585f_11e8_b94f_94533090f4b0row1_col2\" class=\"data row1 col2\" >5655</td> \n",
       "        <td id=\"T_87150a74_585f_11e8_b94f_94533090f4b0row1_col3\" class=\"data row1 col3\" >47197</td> \n",
       "    </tr>    <tr> \n",
       "        <th id=\"T_87150a74_585f_11e8_b94f_94533090f4b0level0_row2\" class=\"row_heading level0 row2\" rowspan=2>male</th> \n",
       "        <th id=\"T_87150a74_585f_11e8_b94f_94533090f4b0level1_row2\" class=\"row_heading level1 row2\" >0</th> \n",
       "        <td id=\"T_87150a74_585f_11e8_b94f_94533090f4b0row2_col0\" class=\"data row2 col0\" >44921</td> \n",
       "        <td id=\"T_87150a74_585f_11e8_b94f_94533090f4b0row2_col1\" class=\"data row2 col1\" >175</td> \n",
       "        <td id=\"T_87150a74_585f_11e8_b94f_94533090f4b0row2_col2\" class=\"data row2 col2\" >7307</td> \n",
       "        <td id=\"T_87150a74_585f_11e8_b94f_94533090f4b0row2_col3\" class=\"data row2 col3\" >52403</td> \n",
       "    </tr>    <tr> \n",
       "        <th id=\"T_87150a74_585f_11e8_b94f_94533090f4b0level1_row3\" class=\"row_heading level1 row3\" >1</th> \n",
       "        <td id=\"T_87150a74_585f_11e8_b94f_94533090f4b0row3_col0\" class=\"data row3 col0\" >45168</td> \n",
       "        <td id=\"T_87150a74_585f_11e8_b94f_94533090f4b0row3_col1\" class=\"data row3 col1\" >207</td> \n",
       "        <td id=\"T_87150a74_585f_11e8_b94f_94533090f4b0row3_col2\" class=\"data row3 col2\" >7252</td> \n",
       "        <td id=\"T_87150a74_585f_11e8_b94f_94533090f4b0row3_col3\" class=\"data row3 col3\" >52627</td> \n",
       "    </tr>    <tr> \n",
       "        <th id=\"T_87150a74_585f_11e8_b94f_94533090f4b0level0_row4\" class=\"row_heading level0 row4\" >All</th> \n",
       "        <th id=\"T_87150a74_585f_11e8_b94f_94533090f4b0level1_row4\" class=\"row_heading level1 row4\" ></th> \n",
       "        <td id=\"T_87150a74_585f_11e8_b94f_94533090f4b0row4_col0\" class=\"data row4 col0\" >172002</td> \n",
       "        <td id=\"T_87150a74_585f_11e8_b94f_94533090f4b0row4_col1\" class=\"data row4 col1\" >818</td> \n",
       "        <td id=\"T_87150a74_585f_11e8_b94f_94533090f4b0row4_col2\" class=\"data row4 col2\" >26826</td> \n",
       "        <td id=\"T_87150a74_585f_11e8_b94f_94533090f4b0row4_col3\" class=\"data row4 col3\" >199646</td> \n",
       "    </tr></tbody> \n",
       "</table> "
      ],
      "text/plain": [
       "<pandas.io.formats.style.Styler at 0x29f13005e10>"
      ]
     },
     "execution_count": 49,
     "metadata": {},
     "output_type": "execute_result"
    }
   ],
   "source": [
    "pd.crosstab([df_upsampled.gender,df_upsampled.paid],df_upsampled.OS,margins=True).style.background_gradient(cmap='summer_r')"
   ]
  },
  {
   "cell_type": "markdown",
   "metadata": {},
   "source": [
    "While going through the dataset, I observed that some of the Ages mentioned weren't correct or possible as it was crossing the age of 100 or so, hence I thought it would ideal to replace such values with the mean to get rid of extreme outliers which would affect the performance of the model"
   ]
  },
  {
   "cell_type": "code",
   "execution_count": 50,
   "metadata": {},
   "outputs": [
    {
     "name": "stdout",
     "output_type": "stream",
     "text": [
      "Oldest User is of: 186.0 Years\n",
      "Youngest User is of: 14.0 Years\n",
      "Average Age is: 82.81764468180378 Years\n"
     ]
    }
   ],
   "source": [
    "print('Oldest User is of:',df_upsampled['age'].max(),'Years')\n",
    "print('Youngest User is of:',df_upsampled['age'].min(),'Years')\n",
    "print('Average Age is:',df_upsampled['age'].mean(),'Years')"
   ]
  },
  {
   "cell_type": "code",
   "execution_count": 66,
   "metadata": {},
   "outputs": [],
   "source": [
    "#df_upsampled['age'].replace(df_upsampled.loc[(df_upsampled['age']>100),'age'], df_upsampled['age'].mean(), inplace=True)\n",
    "df_upsampled.loc[(df_upsampled['age']>100),'age']=df_upsampled['age'].mean()"
   ]
  },
  {
   "cell_type": "code",
   "execution_count": 67,
   "metadata": {},
   "outputs": [
    {
     "name": "stdout",
     "output_type": "stream",
     "text": [
      "Oldest User is of: 100.0 Years\n",
      "Youngest User is of: 14.0 Years\n",
      "Average Age is: 70.58221591114018 Years\n"
     ]
    }
   ],
   "source": [
    "print('Oldest User is of:',df_upsampled['age'].max(),'Years')\n",
    "print('Youngest User is of:',df_upsampled['age'].min(),'Years')\n",
    "print('Average Age is:',df_upsampled['age'].mean(),'Years')"
   ]
  },
  {
   "cell_type": "code",
   "execution_count": 68,
   "metadata": {},
   "outputs": [
    {
     "data": {
      "text/plain": [
       "70.58221591114018"
      ]
     },
     "execution_count": 68,
     "metadata": {},
     "output_type": "execute_result"
    }
   ],
   "source": [
    "df_upsampled['age'].mean()"
   ]
  },
  {
   "cell_type": "markdown",
   "metadata": {},
   "source": [
    "The Curse of Dimensionality\n",
    "\n",
    "In machine learning, “dimensionality” simply refers to the number of features (i.e. input variables) in your dataset.\n",
    "When the number of features is very large relative to the number of observations in your dataset, certain algorithms struggle to train effective models. This is called the “Curse of Dimensionality”"
   ]
  },
  {
   "cell_type": "code",
   "execution_count": 69,
   "metadata": {},
   "outputs": [],
   "source": [
    "#Dropping the column \"index\" as it is a Nominal Feature and won't add any significant value to the model \n",
    "df_upsampled.drop('index', axis=1, inplace=True)"
   ]
  },
  {
   "cell_type": "code",
   "execution_count": 70,
   "metadata": {
    "collapsed": true
   },
   "outputs": [],
   "source": [
    "#Dropping the rows in the dataset with more than three missing values\n",
    "df_upsampled.dropna(thresh=3,inplace=True)"
   ]
  },
  {
   "cell_type": "code",
   "execution_count": 74,
   "metadata": {},
   "outputs": [],
   "source": [
    "#Filling the Nan values in the feature Connected pedometer by zeroes, as it seemed ideal.\n",
    "df_upsampled['connected_pedometer'].fillna(0,inplace=True)"
   ]
  },
  {
   "cell_type": "code",
   "execution_count": 79,
   "metadata": {},
   "outputs": [
    {
     "data": {
      "text/html": [
       "<div>\n",
       "<style>\n",
       "    .dataframe thead tr:only-child th {\n",
       "        text-align: right;\n",
       "    }\n",
       "\n",
       "    .dataframe thead th {\n",
       "        text-align: left;\n",
       "    }\n",
       "\n",
       "    .dataframe tbody tr th {\n",
       "        vertical-align: top;\n",
       "    }\n",
       "</style>\n",
       "<table border=\"1\" class=\"dataframe\">\n",
       "  <thead>\n",
       "    <tr style=\"text-align: right;\">\n",
       "      <th></th>\n",
       "      <th>user_id</th>\n",
       "      <th>gender</th>\n",
       "      <th>age</th>\n",
       "      <th>start_bmi</th>\n",
       "      <th>activity_factor</th>\n",
       "      <th>OS</th>\n",
       "      <th>connected_pedometer</th>\n",
       "      <th>hypothyroid</th>\n",
       "      <th>diabetes</th>\n",
       "      <th>pcos</th>\n",
       "      <th>physical</th>\n",
       "      <th>hypertension</th>\n",
       "      <th>high_blood_pressure</th>\n",
       "      <th>cholesterol</th>\n",
       "      <th>medical_conditions</th>\n",
       "      <th>devicebrand</th>\n",
       "      <th>paid</th>\n",
       "    </tr>\n",
       "  </thead>\n",
       "  <tbody>\n",
       "    <tr>\n",
       "      <th>0</th>\n",
       "      <td>2224406.0</td>\n",
       "      <td>male</td>\n",
       "      <td>44.0</td>\n",
       "      <td>32.7</td>\n",
       "      <td>1.725</td>\n",
       "      <td>ios</td>\n",
       "      <td>0</td>\n",
       "      <td>0</td>\n",
       "      <td>0</td>\n",
       "      <td>0</td>\n",
       "      <td>0</td>\n",
       "      <td>0</td>\n",
       "      <td>0</td>\n",
       "      <td>0</td>\n",
       "      <td>0</td>\n",
       "      <td>apple</td>\n",
       "      <td>0</td>\n",
       "    </tr>\n",
       "    <tr>\n",
       "      <th>1</th>\n",
       "      <td>2224394.0</td>\n",
       "      <td>female</td>\n",
       "      <td>63.0</td>\n",
       "      <td>33.7</td>\n",
       "      <td>1.200</td>\n",
       "      <td>android</td>\n",
       "      <td>0</td>\n",
       "      <td>0</td>\n",
       "      <td>0</td>\n",
       "      <td>0</td>\n",
       "      <td>0</td>\n",
       "      <td>0</td>\n",
       "      <td>0</td>\n",
       "      <td>0</td>\n",
       "      <td>0</td>\n",
       "      <td>motorola</td>\n",
       "      <td>0</td>\n",
       "    </tr>\n",
       "    <tr>\n",
       "      <th>2</th>\n",
       "      <td>2224399.0</td>\n",
       "      <td>male</td>\n",
       "      <td>84.0</td>\n",
       "      <td>31.4</td>\n",
       "      <td>1.550</td>\n",
       "      <td>android</td>\n",
       "      <td>0</td>\n",
       "      <td>0</td>\n",
       "      <td>0</td>\n",
       "      <td>0</td>\n",
       "      <td>0</td>\n",
       "      <td>1</td>\n",
       "      <td>0</td>\n",
       "      <td>0</td>\n",
       "      <td>1</td>\n",
       "      <td>samsung</td>\n",
       "      <td>0</td>\n",
       "    </tr>\n",
       "    <tr>\n",
       "      <th>3</th>\n",
       "      <td>2224448.0</td>\n",
       "      <td>male</td>\n",
       "      <td>84.0</td>\n",
       "      <td>34.9</td>\n",
       "      <td>1.200</td>\n",
       "      <td>android</td>\n",
       "      <td>google_fit</td>\n",
       "      <td>0</td>\n",
       "      <td>0</td>\n",
       "      <td>0</td>\n",
       "      <td>0</td>\n",
       "      <td>0</td>\n",
       "      <td>0</td>\n",
       "      <td>0</td>\n",
       "      <td>0</td>\n",
       "      <td>vivo</td>\n",
       "      <td>0</td>\n",
       "    </tr>\n",
       "    <tr>\n",
       "      <th>4</th>\n",
       "      <td>2224393.0</td>\n",
       "      <td>female</td>\n",
       "      <td>98.0</td>\n",
       "      <td>37.8</td>\n",
       "      <td>1.375</td>\n",
       "      <td>android</td>\n",
       "      <td>0</td>\n",
       "      <td>1</td>\n",
       "      <td>0</td>\n",
       "      <td>0</td>\n",
       "      <td>0</td>\n",
       "      <td>0</td>\n",
       "      <td>0</td>\n",
       "      <td>0</td>\n",
       "      <td>1</td>\n",
       "      <td>samsung</td>\n",
       "      <td>0</td>\n",
       "    </tr>\n",
       "  </tbody>\n",
       "</table>\n",
       "</div>"
      ],
      "text/plain": [
       "     user_id  gender   age  start_bmi  activity_factor       OS  \\\n",
       "0  2224406.0    male  44.0       32.7            1.725      ios   \n",
       "1  2224394.0  female  63.0       33.7            1.200  android   \n",
       "2  2224399.0    male  84.0       31.4            1.550  android   \n",
       "3  2224448.0    male  84.0       34.9            1.200  android   \n",
       "4  2224393.0  female  98.0       37.8            1.375  android   \n",
       "\n",
       "  connected_pedometer  hypothyroid  diabetes  pcos  physical  hypertension  \\\n",
       "0                   0            0         0     0         0             0   \n",
       "1                   0            0         0     0         0             0   \n",
       "2                   0            0         0     0         0             1   \n",
       "3          google_fit            0         0     0         0             0   \n",
       "4                   0            1         0     0         0             0   \n",
       "\n",
       "   high_blood_pressure  cholesterol  medical_conditions devicebrand  paid  \n",
       "0                    0            0                   0       apple     0  \n",
       "1                    0            0                   0    motorola     0  \n",
       "2                    0            0                   1     samsung     0  \n",
       "3                    0            0                   0        vivo     0  \n",
       "4                    0            0                   1     samsung     0  "
      ]
     },
     "execution_count": 79,
     "metadata": {},
     "output_type": "execute_result"
    }
   ],
   "source": [
    "df_upsampled.head()"
   ]
  },
  {
   "cell_type": "markdown",
   "metadata": {},
   "source": [
    "The choice of dealing with missing values depends on the context of the situation. Here, I thought rather than removing the missing values, we could replace it with some values depending on the feature,as it could help build a better model and Missing values also can be an important feature in itself"
   ]
  },
  {
   "cell_type": "code",
   "execution_count": 159,
   "metadata": {},
   "outputs": [
    {
     "data": {
      "text/plain": [
       "gender                 0\n",
       "age                    0\n",
       "start_bmi              0\n",
       "activity_factor        0\n",
       "OS                     0\n",
       "connected_pedometer    0\n",
       "hypothyroid            0\n",
       "diabetes               0\n",
       "pcos                   0\n",
       "physical               0\n",
       "hypertension           0\n",
       "high_blood_pressure    0\n",
       "cholesterol            0\n",
       "medical_conditions     0\n",
       "Age_band               0\n",
       "Device                 0\n",
       "Paid                   0\n",
       "dtype: int64"
      ]
     },
     "execution_count": 159,
     "metadata": {},
     "output_type": "execute_result"
    }
   ],
   "source": [
    "#Successfully dealt with missing values\n",
    "df_upsampled.isnull().sum()"
   ]
  },
  {
   "cell_type": "code",
   "execution_count": 77,
   "metadata": {
    "collapsed": true
   },
   "outputs": [],
   "source": [
    "df_upsampled.fillna(0,inplace=True)"
   ]
  },
  {
   "cell_type": "code",
   "execution_count": 162,
   "metadata": {},
   "outputs": [
    {
     "data": {
      "image/png": "[encoded data removed]",
      "text/plain": [
       "<matplotlib.figure.Figure at 0x29f15301860>"
      ]
     },
     "metadata": {},
     "output_type": "display_data"
    }
   ],
   "source": [
    "#Observing the range of the Paid variable with respective of the features to get the idea where it is more concentrated\n",
    "f,ax=pyplot.subplots(1,2,figsize=(18,8))\n",
    "sns.violinplot(\"OS\",\"age\", hue=\"Paid\", data=df_upsampled,split=True,ax=ax[0])\n",
    "ax[0].set_title('OS and Age vs Paid')\n",
    "ax[0].set_yticks(range(0,110,10))\n",
    "sns.violinplot(\"gender\",\"age\", hue=\"Paid\", data=df_upsampled,split=True,ax=ax[1])\n",
    "ax[1].set_title('Gender and Age vs Paid')\n",
    "ax[1].set_yticks(range(0,110,10))\n",
    "pyplot.show()"
   ]
  },
  {
   "cell_type": "code",
   "execution_count": 146,
   "metadata": {},
   "outputs": [
    {
     "data": {
      "image/png": "[encoded data removed]",
      "text/plain": [
       "<matplotlib.figure.Figure at 0x29f1e5e24e0>"
      ]
     },
     "metadata": {},
     "output_type": "display_data"
    }
   ],
   "source": [
    "#Observing the correlation of the features using a heatmap\n",
    "sns.heatmap(df_upsampled.corr(),annot=True,cmap='RdYlGn',linewidths=0.2) #data.corr()-->correlation matrix\n",
    "fig=pyplot.gcf()\n",
    "fig.set_size_inches(10,8)\n",
    "pyplot.show()"
   ]
  },
  {
   "cell_type": "markdown",
   "metadata": {},
   "source": [
    "When two features are highly or perfectly correlated, so the increase in one leads to increase in the other. This means that both the features are containing highly similar information and there is very little or no variance in information. This is known as MultiColinearity as both of them contains almost the same information.\n",
    "\n",
    "We shouldn't use both of them as one of them is redundant. While making or training models, we should try to eliminate redundant features as it reduces training time and many such advantages.\n",
    "\n",
    "Now from the above heatmap,we can see that the features are not much correlated. So we can carry on with all features."
   ]
  },
  {
   "cell_type": "code",
   "execution_count": 90,
   "metadata": {
    "collapsed": true
   },
   "outputs": [],
   "source": [
    "df_upsampled['Age_band']=0\n",
    "df_upsampled.loc[df_upsampled['age']<=14,'Age_band']=0\n",
    "df_upsampled.loc[(df_upsampled['age']>14)&(df_upsampled['age']<=32),'Age_band']=1\n",
    "df_upsampled.loc[(df_upsampled['age']>32)&(df_upsampled['age']<=50),'Age_band']=2\n",
    "df_upsampled.loc[(df_upsampled['age']>50)&(df_upsampled['age']<=68),'Age_band']=3\n",
    "df_upsampled.loc[df_upsampled['age']>68,'Age_band']=4"
   ]
  },
  {
   "cell_type": "markdown",
   "metadata": {},
   "source": [
    "Age is a continous feature, there is a problem with Continous Variables in Machine Learning Models.We need to convert these continous values into categorical values by either Binning or Normalisation. I will be using binning i.e group a range of ages into a single bin or assign them a single value."
   ]
  },
  {
   "cell_type": "code",
   "execution_count": 91,
   "metadata": {},
   "outputs": [
    {
     "data": {
      "text/html": [
       "<div>\n",
       "<style>\n",
       "    .dataframe thead tr:only-child th {\n",
       "        text-align: right;\n",
       "    }\n",
       "\n",
       "    .dataframe thead th {\n",
       "        text-align: left;\n",
       "    }\n",
       "\n",
       "    .dataframe tbody tr th {\n",
       "        vertical-align: top;\n",
       "    }\n",
       "</style>\n",
       "<table border=\"1\" class=\"dataframe\">\n",
       "  <thead>\n",
       "    <tr style=\"text-align: right;\">\n",
       "      <th></th>\n",
       "      <th>user_id</th>\n",
       "      <th>gender</th>\n",
       "      <th>age</th>\n",
       "      <th>start_bmi</th>\n",
       "      <th>activity_factor</th>\n",
       "      <th>OS</th>\n",
       "      <th>connected_pedometer</th>\n",
       "      <th>hypothyroid</th>\n",
       "      <th>diabetes</th>\n",
       "      <th>pcos</th>\n",
       "      <th>physical</th>\n",
       "      <th>hypertension</th>\n",
       "      <th>high_blood_pressure</th>\n",
       "      <th>cholesterol</th>\n",
       "      <th>medical_conditions</th>\n",
       "      <th>devicebrand</th>\n",
       "      <th>paid</th>\n",
       "      <th>Age_band</th>\n",
       "    </tr>\n",
       "  </thead>\n",
       "  <tbody>\n",
       "    <tr>\n",
       "      <th>0</th>\n",
       "      <td>2224406.0</td>\n",
       "      <td>male</td>\n",
       "      <td>44.0</td>\n",
       "      <td>32.7</td>\n",
       "      <td>1.725</td>\n",
       "      <td>ios</td>\n",
       "      <td>0</td>\n",
       "      <td>0</td>\n",
       "      <td>0</td>\n",
       "      <td>0</td>\n",
       "      <td>0</td>\n",
       "      <td>0</td>\n",
       "      <td>0</td>\n",
       "      <td>0</td>\n",
       "      <td>0</td>\n",
       "      <td>apple</td>\n",
       "      <td>0</td>\n",
       "      <td>2</td>\n",
       "    </tr>\n",
       "    <tr>\n",
       "      <th>1</th>\n",
       "      <td>2224394.0</td>\n",
       "      <td>female</td>\n",
       "      <td>63.0</td>\n",
       "      <td>33.7</td>\n",
       "      <td>1.200</td>\n",
       "      <td>android</td>\n",
       "      <td>0</td>\n",
       "      <td>0</td>\n",
       "      <td>0</td>\n",
       "      <td>0</td>\n",
       "      <td>0</td>\n",
       "      <td>0</td>\n",
       "      <td>0</td>\n",
       "      <td>0</td>\n",
       "      <td>0</td>\n",
       "      <td>motorola</td>\n",
       "      <td>0</td>\n",
       "      <td>3</td>\n",
       "    </tr>\n",
       "    <tr>\n",
       "      <th>2</th>\n",
       "      <td>2224399.0</td>\n",
       "      <td>male</td>\n",
       "      <td>84.0</td>\n",
       "      <td>31.4</td>\n",
       "      <td>1.550</td>\n",
       "      <td>android</td>\n",
       "      <td>0</td>\n",
       "      <td>0</td>\n",
       "      <td>0</td>\n",
       "      <td>0</td>\n",
       "      <td>0</td>\n",
       "      <td>1</td>\n",
       "      <td>0</td>\n",
       "      <td>0</td>\n",
       "      <td>1</td>\n",
       "      <td>samsung</td>\n",
       "      <td>0</td>\n",
       "      <td>4</td>\n",
       "    </tr>\n",
       "    <tr>\n",
       "      <th>3</th>\n",
       "      <td>2224448.0</td>\n",
       "      <td>male</td>\n",
       "      <td>84.0</td>\n",
       "      <td>34.9</td>\n",
       "      <td>1.200</td>\n",
       "      <td>android</td>\n",
       "      <td>google_fit</td>\n",
       "      <td>0</td>\n",
       "      <td>0</td>\n",
       "      <td>0</td>\n",
       "      <td>0</td>\n",
       "      <td>0</td>\n",
       "      <td>0</td>\n",
       "      <td>0</td>\n",
       "      <td>0</td>\n",
       "      <td>vivo</td>\n",
       "      <td>0</td>\n",
       "      <td>4</td>\n",
       "    </tr>\n",
       "    <tr>\n",
       "      <th>4</th>\n",
       "      <td>2224393.0</td>\n",
       "      <td>female</td>\n",
       "      <td>98.0</td>\n",
       "      <td>37.8</td>\n",
       "      <td>1.375</td>\n",
       "      <td>android</td>\n",
       "      <td>0</td>\n",
       "      <td>1</td>\n",
       "      <td>0</td>\n",
       "      <td>0</td>\n",
       "      <td>0</td>\n",
       "      <td>0</td>\n",
       "      <td>0</td>\n",
       "      <td>0</td>\n",
       "      <td>1</td>\n",
       "      <td>samsung</td>\n",
       "      <td>0</td>\n",
       "      <td>4</td>\n",
       "    </tr>\n",
       "  </tbody>\n",
       "</table>\n",
       "</div>"
      ],
      "text/plain": [
       "     user_id  gender   age  start_bmi  activity_factor       OS  \\\n",
       "0  2224406.0    male  44.0       32.7            1.725      ios   \n",
       "1  2224394.0  female  63.0       33.7            1.200  android   \n",
       "2  2224399.0    male  84.0       31.4            1.550  android   \n",
       "3  2224448.0    male  84.0       34.9            1.200  android   \n",
       "4  2224393.0  female  98.0       37.8            1.375  android   \n",
       "\n",
       "  connected_pedometer  hypothyroid  diabetes  pcos  physical  hypertension  \\\n",
       "0                   0            0         0     0         0             0   \n",
       "1                   0            0         0     0         0             0   \n",
       "2                   0            0         0     0         0             1   \n",
       "3          google_fit            0         0     0         0             0   \n",
       "4                   0            1         0     0         0             0   \n",
       "\n",
       "   high_blood_pressure  cholesterol  medical_conditions devicebrand  paid  \\\n",
       "0                    0            0                   0       apple     0   \n",
       "1                    0            0                   0    motorola     0   \n",
       "2                    0            0                   1     samsung     0   \n",
       "3                    0            0                   0        vivo     0   \n",
       "4                    0            0                   1     samsung     0   \n",
       "\n",
       "   Age_band  \n",
       "0         2  \n",
       "1         3  \n",
       "2         4  \n",
       "3         4  \n",
       "4         4  "
      ]
     },
     "execution_count": 91,
     "metadata": {},
     "output_type": "execute_result"
    }
   ],
   "source": [
    "df_upsampled.head()"
   ]
  },
  {
   "cell_type": "code",
   "execution_count": 92,
   "metadata": {},
   "outputs": [
    {
     "data": {
      "text/html": [
       "<style  type=\"text/css\" >\n",
       "    #T_14084dec_5874_11e8_9247_94533090f4b0row0_col0 {\n",
       "            background-color:  #ffff66;\n",
       "        }    #T_14084dec_5874_11e8_9247_94533090f4b0row1_col0 {\n",
       "            background-color:  #3b9d66;\n",
       "        }    #T_14084dec_5874_11e8_9247_94533090f4b0row2_col0 {\n",
       "            background-color:  #349a66;\n",
       "        }    #T_14084dec_5874_11e8_9247_94533090f4b0row3_col0 {\n",
       "            background-color:  #198c66;\n",
       "        }    #T_14084dec_5874_11e8_9247_94533090f4b0row4_col0 {\n",
       "            background-color:  #008066;\n",
       "        }</style>  \n",
       "<table id=\"T_14084dec_5874_11e8_9247_94533090f4b0\" > \n",
       "<thead>    <tr> \n",
       "        <th class=\"blank level0\" ></th> \n",
       "        <th class=\"col_heading level0 col0\" >Age_band</th> \n",
       "    </tr></thead> \n",
       "<tbody>    <tr> \n",
       "        <th id=\"T_14084dec_5874_11e8_9247_94533090f4b0level0_row0\" class=\"row_heading level0 row0\" >4</th> \n",
       "        <td id=\"T_14084dec_5874_11e8_9247_94533090f4b0row0_col0\" class=\"data row0 col0\" >118352</td> \n",
       "    </tr>    <tr> \n",
       "        <th id=\"T_14084dec_5874_11e8_9247_94533090f4b0level0_row1\" class=\"row_heading level0 row1\" >3</th> \n",
       "        <td id=\"T_14084dec_5874_11e8_9247_94533090f4b0row1_col0\" class=\"data row1 col0\" >31394</td> \n",
       "    </tr>    <tr> \n",
       "        <th id=\"T_14084dec_5874_11e8_9247_94533090f4b0level0_row2\" class=\"row_heading level0 row2\" >2</th> \n",
       "        <td id=\"T_14084dec_5874_11e8_9247_94533090f4b0row2_col0\" class=\"data row2 col0\" >28294</td> \n",
       "    </tr>    <tr> \n",
       "        <th id=\"T_14084dec_5874_11e8_9247_94533090f4b0level0_row3\" class=\"row_heading level0 row3\" >0</th> \n",
       "        <td id=\"T_14084dec_5874_11e8_9247_94533090f4b0row3_col0\" class=\"data row3 col0\" >16523</td> \n",
       "    </tr>    <tr> \n",
       "        <th id=\"T_14084dec_5874_11e8_9247_94533090f4b0level0_row4\" class=\"row_heading level0 row4\" >1</th> \n",
       "        <td id=\"T_14084dec_5874_11e8_9247_94533090f4b0row4_col0\" class=\"data row4 col0\" >5085</td> \n",
       "    </tr></tbody> \n",
       "</table> "
      ],
      "text/plain": [
       "<pandas.io.formats.style.Styler at 0x29f1565b0b8>"
      ]
     },
     "execution_count": 92,
     "metadata": {},
     "output_type": "execute_result"
    }
   ],
   "source": [
    "df_upsampled['Age_band'].value_counts().to_frame().style.background_gradient(cmap='summer')"
   ]
  },
  {
   "cell_type": "code",
   "execution_count": 94,
   "metadata": {},
   "outputs": [
    {
     "data": {
      "image/png": "[encoded data removed]",
      "text/plain": [
       "<matplotlib.figure.Figure at 0x29f1586c470>"
      ]
     },
     "metadata": {},
     "output_type": "display_data"
    }
   ],
   "source": [
    "sns.factorplot('Age_band','paid',data=df_upsampled,col='OS')\n",
    "pyplot.show()"
   ]
  },
  {
   "cell_type": "code",
   "execution_count": 95,
   "metadata": {},
   "outputs": [
    {
     "data": {
      "image/png": "[encoded data removed]",
      "text/plain": [
       "<matplotlib.figure.Figure at 0x29f1582f1d0>"
      ]
     },
     "metadata": {},
     "output_type": "display_data"
    }
   ],
   "source": [
    "#Middle aged people are more inclined towards buying the paid plans\n",
    "sns.factorplot('Age_band','paid',data=df_upsampled,col='gender')\n",
    "pyplot.show()"
   ]
  },
  {
   "cell_type": "markdown",
   "metadata": {},
   "source": [
    "Since we cannot pass strings to a machine learning model, we need to convert features loke Sex, Embarked, etc into numeric values."
   ]
  },
  {
   "cell_type": "code",
   "execution_count": 96,
   "metadata": {
    "collapsed": true
   },
   "outputs": [],
   "source": [
    "df_upsampled['gender'].replace(['male','female'],[0,1],inplace=True)"
   ]
  },
  {
   "cell_type": "code",
   "execution_count": 99,
   "metadata": {},
   "outputs": [],
   "source": [
    "df_upsampled['OS'].replace(['ios', 'android', 'both'],[0,1,2],inplace=True)"
   ]
  },
  {
   "cell_type": "code",
   "execution_count": 113,
   "metadata": {},
   "outputs": [],
   "source": [
    "#df.groupby(['paid','devicebrand'])['paid'].count()"
   ]
  },
  {
   "cell_type": "code",
   "execution_count": 112,
   "metadata": {},
   "outputs": [],
   "source": [
    "#df_upsampled['devicebrand'].unique()"
   ]
  },
  {
   "cell_type": "code",
   "execution_count": 103,
   "metadata": {
    "collapsed": true
   },
   "outputs": [],
   "source": [
    "from sklearn import preprocessing\n",
    "le = preprocessing.LabelEncoder()"
   ]
  },
  {
   "cell_type": "code",
   "execution_count": 110,
   "metadata": {},
   "outputs": [],
   "source": [
    "#Used LabelEncoder as the feature DeviceBrand had a lot of distinct variables\n",
    "df_upsampled['Device']=le.fit_transform(df_upsampled['devicebrand'])"
   ]
  },
  {
   "cell_type": "code",
   "execution_count": 122,
   "metadata": {},
   "outputs": [
    {
     "data": {
      "text/html": [
       "<div>\n",
       "<style>\n",
       "    .dataframe thead tr:only-child th {\n",
       "        text-align: right;\n",
       "    }\n",
       "\n",
       "    .dataframe thead th {\n",
       "        text-align: left;\n",
       "    }\n",
       "\n",
       "    .dataframe tbody tr th {\n",
       "        vertical-align: top;\n",
       "    }\n",
       "</style>\n",
       "<table border=\"1\" class=\"dataframe\">\n",
       "  <thead>\n",
       "    <tr style=\"text-align: right;\">\n",
       "      <th></th>\n",
       "      <th>gender</th>\n",
       "      <th>age</th>\n",
       "      <th>start_bmi</th>\n",
       "      <th>activity_factor</th>\n",
       "      <th>OS</th>\n",
       "      <th>connected_pedometer</th>\n",
       "      <th>hypothyroid</th>\n",
       "      <th>diabetes</th>\n",
       "      <th>pcos</th>\n",
       "      <th>physical</th>\n",
       "      <th>hypertension</th>\n",
       "      <th>high_blood_pressure</th>\n",
       "      <th>cholesterol</th>\n",
       "      <th>medical_conditions</th>\n",
       "      <th>Age_band</th>\n",
       "      <th>Device</th>\n",
       "      <th>Paid</th>\n",
       "    </tr>\n",
       "  </thead>\n",
       "  <tbody>\n",
       "    <tr>\n",
       "      <th>0</th>\n",
       "      <td>0</td>\n",
       "      <td>44.0</td>\n",
       "      <td>32.7</td>\n",
       "      <td>1.725</td>\n",
       "      <td>0</td>\n",
       "      <td>0</td>\n",
       "      <td>0</td>\n",
       "      <td>0</td>\n",
       "      <td>0</td>\n",
       "      <td>0</td>\n",
       "      <td>0</td>\n",
       "      <td>0</td>\n",
       "      <td>0</td>\n",
       "      <td>0</td>\n",
       "      <td>2</td>\n",
       "      <td>133</td>\n",
       "      <td>0</td>\n",
       "    </tr>\n",
       "    <tr>\n",
       "      <th>1</th>\n",
       "      <td>1</td>\n",
       "      <td>63.0</td>\n",
       "      <td>33.7</td>\n",
       "      <td>1.200</td>\n",
       "      <td>1</td>\n",
       "      <td>0</td>\n",
       "      <td>0</td>\n",
       "      <td>0</td>\n",
       "      <td>0</td>\n",
       "      <td>0</td>\n",
       "      <td>0</td>\n",
       "      <td>0</td>\n",
       "      <td>0</td>\n",
       "      <td>0</td>\n",
       "      <td>3</td>\n",
       "      <td>151</td>\n",
       "      <td>0</td>\n",
       "    </tr>\n",
       "    <tr>\n",
       "      <th>2</th>\n",
       "      <td>0</td>\n",
       "      <td>84.0</td>\n",
       "      <td>31.4</td>\n",
       "      <td>1.550</td>\n",
       "      <td>1</td>\n",
       "      <td>0</td>\n",
       "      <td>0</td>\n",
       "      <td>0</td>\n",
       "      <td>0</td>\n",
       "      <td>0</td>\n",
       "      <td>1</td>\n",
       "      <td>0</td>\n",
       "      <td>0</td>\n",
       "      <td>1</td>\n",
       "      <td>4</td>\n",
       "      <td>153</td>\n",
       "      <td>0</td>\n",
       "    </tr>\n",
       "    <tr>\n",
       "      <th>3</th>\n",
       "      <td>0</td>\n",
       "      <td>84.0</td>\n",
       "      <td>34.9</td>\n",
       "      <td>1.200</td>\n",
       "      <td>1</td>\n",
       "      <td>1</td>\n",
       "      <td>0</td>\n",
       "      <td>0</td>\n",
       "      <td>0</td>\n",
       "      <td>0</td>\n",
       "      <td>0</td>\n",
       "      <td>0</td>\n",
       "      <td>0</td>\n",
       "      <td>0</td>\n",
       "      <td>4</td>\n",
       "      <td>155</td>\n",
       "      <td>0</td>\n",
       "    </tr>\n",
       "    <tr>\n",
       "      <th>4</th>\n",
       "      <td>1</td>\n",
       "      <td>98.0</td>\n",
       "      <td>37.8</td>\n",
       "      <td>1.375</td>\n",
       "      <td>1</td>\n",
       "      <td>0</td>\n",
       "      <td>1</td>\n",
       "      <td>0</td>\n",
       "      <td>0</td>\n",
       "      <td>0</td>\n",
       "      <td>0</td>\n",
       "      <td>0</td>\n",
       "      <td>0</td>\n",
       "      <td>1</td>\n",
       "      <td>4</td>\n",
       "      <td>153</td>\n",
       "      <td>0</td>\n",
       "    </tr>\n",
       "  </tbody>\n",
       "</table>\n",
       "</div>"
      ],
      "text/plain": [
       "   gender   age  start_bmi  activity_factor  OS  connected_pedometer  \\\n",
       "0       0  44.0       32.7            1.725   0                    0   \n",
       "1       1  63.0       33.7            1.200   1                    0   \n",
       "2       0  84.0       31.4            1.550   1                    0   \n",
       "3       0  84.0       34.9            1.200   1                    1   \n",
       "4       1  98.0       37.8            1.375   1                    0   \n",
       "\n",
       "   hypothyroid  diabetes  pcos  physical  hypertension  high_blood_pressure  \\\n",
       "0            0         0     0         0             0                    0   \n",
       "1            0         0     0         0             0                    0   \n",
       "2            0         0     0         0             1                    0   \n",
       "3            0         0     0         0             0                    0   \n",
       "4            1         0     0         0             0                    0   \n",
       "\n",
       "   cholesterol  medical_conditions  Age_band  Device  Paid  \n",
       "0            0                   0         2     133     0  \n",
       "1            0                   0         3     151     0  \n",
       "2            0                   1         4     153     0  \n",
       "3            0                   0         4     155     0  \n",
       "4            0                   1         4     153     0  "
      ]
     },
     "execution_count": 122,
     "metadata": {},
     "output_type": "execute_result"
    }
   ],
   "source": [
    "df_upsampled.head()"
   ]
  },
  {
   "cell_type": "code",
   "execution_count": 114,
   "metadata": {},
   "outputs": [],
   "source": [
    "df_upsampled.drop('user_id', axis=1, inplace=True)"
   ]
  },
  {
   "cell_type": "code",
   "execution_count": 116,
   "metadata": {},
   "outputs": [],
   "source": [
    "df_upsampled['connected_pedometer'].replace([0, 'google_fit', 'Health App', 'fitbit', 'RIST'],[0,1,2,3,4],inplace=True)\n",
    "#df_upsampled['connected_pedometer'].unique()"
   ]
  },
  {
   "cell_type": "code",
   "execution_count": 118,
   "metadata": {
    "collapsed": true
   },
   "outputs": [],
   "source": [
    "df_upsampled.drop('devicebrand', axis=1, inplace=True)"
   ]
  },
  {
   "cell_type": "code",
   "execution_count": 120,
   "metadata": {
    "collapsed": true
   },
   "outputs": [],
   "source": [
    "df_upsampled['Paid']=df_upsampled['paid']"
   ]
  },
  {
   "cell_type": "code",
   "execution_count": 121,
   "metadata": {
    "collapsed": true
   },
   "outputs": [],
   "source": [
    "df_upsampled.drop('paid', axis=1, inplace=True)"
   ]
  },
  {
   "cell_type": "code",
   "execution_count": 127,
   "metadata": {},
   "outputs": [],
   "source": [
    "#Creating arrays of the data and splitting them for the training of the model\n",
    "array = df_upsampled.values\n",
    "X = array[:,0:16].astype(float)\n",
    "Y = array[:,16]"
   ]
  },
  {
   "cell_type": "markdown",
   "metadata": {},
   "source": [
    "It is a good idea to use a validation hold-out set. This is a sample of the data that we hold\n",
    "back from our analysis and modeling. We use it right at the end of our project to confirm the\n",
    "accuracy of our final model. It is a smoke test that we can use to see if we messed up and to\n",
    "give us confidence on our estimates of accuracy on unseen data. I used 80% of the dataset\n",
    "for modeling and hold back 20% for validation."
   ]
  },
  {
   "cell_type": "code",
   "execution_count": 129,
   "metadata": {},
   "outputs": [],
   "source": [
    "#Using the Cross Validation Technique\n",
    "validation_size = 0.20\n",
    "seed = 7\n",
    "X_train, X_validation, Y_train, Y_validation = train_test_split(X, Y,\n",
    "test_size=validation_size, random_state=seed)"
   ]
  },
  {
   "cell_type": "markdown",
   "metadata": {},
   "source": [
    "Let’s design\n",
    "our test harness. I will use 10-fold cross validation. The dataset is not too small and this is\n",
    "a good standard test harness configuration. I will evaluate algorithms using the accuracy\n",
    "metric. This is a gross metric that will give a quick idea of how correct a given model is. More\n",
    "useful on binary classification problems like this one."
   ]
  },
  {
   "cell_type": "code",
   "execution_count": 130,
   "metadata": {
    "collapsed": true
   },
   "outputs": [],
   "source": [
    "# Test options and evaluation metric\n",
    "num_folds = 10\n",
    "seed = 7\n",
    "scoring = 'accuracy'"
   ]
  },
  {
   "cell_type": "markdown",
   "metadata": {},
   "source": [
    "In machine learning, there’s something called the “No Free Lunch” theorem. In a nutshell, it states that no one algorithm works best for every problem.There are many factors at play, such as the size and structure of your dataset.  Gut feel suggests distance based\n",
    "algorithms and tree based algorithms would perform well. I created a baseline of performance on this problem and spot-check a number of different\n",
    "algorithms. I will select a suite of different algorithms capable of working on this classification\n",
    "problem."
   ]
  },
  {
   "cell_type": "code",
   "execution_count": 134,
   "metadata": {
    "collapsed": true
   },
   "outputs": [],
   "source": [
    "models = []\n",
    "models.append(('LR', LogisticRegression()))\n",
    "models.append(('LDA', LinearDiscriminantAnalysis()))\n",
    "models.append(('KNN', KNeighborsClassifier()))\n",
    "models.append(('CART', DecisionTreeClassifier()))\n",
    "models.append(('NB', GaussianNB()))"
   ]
  },
  {
   "cell_type": "markdown",
   "metadata": {},
   "source": [
    "SVM's are memory intensive, trickier to tune due to the importance of picking the right kernel, and don't scale well to larger datasets. Hence, I didn't include SVM algorithm in the list of models."
   ]
  },
  {
   "cell_type": "markdown",
   "metadata": {},
   "source": [
    "The algorithms all use default tuning parameters. Let’s compare the algorithms. I will\n",
    "display the mean and standard deviation of accuracy for each algorithm as I calculate it and\n",
    "collect the results for use later."
   ]
  },
  {
   "cell_type": "code",
   "execution_count": 135,
   "metadata": {},
   "outputs": [
    {
     "name": "stdout",
     "output_type": "stream",
     "text": [
      "LR: 0.562185 (0.005450)\n",
      "LDA: 0.561941 (0.005351)\n",
      "KNN: 0.968588 (0.001574)\n",
      "CART: 0.981943 (0.001105)\n",
      "NB: 0.499318 (0.003690)\n"
     ]
    }
   ],
   "source": [
    "results = []\n",
    "names = []\n",
    "for name, model in models:\n",
    "    kfold = KFold(n_splits=num_folds, random_state=seed)\n",
    "    cv_results = cross_val_score(model, X_train, Y_train, cv=kfold, scoring=scoring)\n",
    "    results.append(cv_results)\n",
    "    names.append(name)\n",
    "    msg = \"%s: %f (%f)\" % (name, cv_results.mean(), cv_results.std())\n",
    "    print(msg)"
   ]
  },
  {
   "cell_type": "markdown",
   "metadata": {},
   "source": [
    "Running the example provides the output below. The results suggest That both CART and k-Nearest Neighbors may be worth further study.Nearest neighbors algorithms are \"instance-based,\" which means that that save each training observation. They then make predictions for new observations by searching for the most similar training observations and pooling their values.CART are robust to outliers, scalable, and able to naturally model non-linear decision boundaries thanks to their hierarchical structure."
   ]
  },
  {
   "cell_type": "code",
   "execution_count": 139,
   "metadata": {},
   "outputs": [],
   "source": [
    "from sklearn.preprocessing import StandardScaler\n",
    "from sklearn.pipeline import Pipeline\n",
    "# Standardize the dataset\n",
    "pipelines = []\n",
    "pipelines.append(('ScaledLR', Pipeline([('Scaler', StandardScaler()),('LR',\n",
    "LogisticRegression())])))\n",
    "pipelines.append(('ScaledLDA', Pipeline([('Scaler', StandardScaler()),('LDA',\n",
    "LinearDiscriminantAnalysis())])))\n",
    "pipelines.append(('ScaledKNN', Pipeline([('Scaler', StandardScaler()),('KNN',\n",
    "KNeighborsClassifier())])))\n",
    "pipelines.append(('ScaledCART', Pipeline([('Scaler', StandardScaler()),('CART',\n",
    "DecisionTreeClassifier())])))\n",
    "pipelines.append(('ScaledNB', Pipeline([('Scaler', StandardScaler()),('NB',\n",
    "GaussianNB())])))"
   ]
  },
  {
   "cell_type": "code",
   "execution_count": null,
   "metadata": {
    "collapsed": true
   },
   "outputs": [],
   "source": [
    "results = []\n",
    "names = []\n",
    "for name, model in pipelines:\n",
    "    kfold = KFold(n_splits=num_folds, random_state=seed)\n",
    "    cv_results = cross_val_score(model, X_train, Y_train, cv=kfold, scoring=scoring)\n",
    "    results.append(cv_results)\n",
    "    names.append(name)\n",
    "    msg = \"%s: %f (%f)\" % (name, cv_results.mean(), cv_results.std())\n",
    "    print(msg)"
   ]
  },
  {
   "cell_type": "markdown",
   "metadata": {},
   "source": [
    "Let’s evaluate the same algorithms with a standardized copy of the\n",
    "dataset. This is where the data is transformed such that each attribute has a mean value of zero\n",
    "and a standard deviation of one. We also need to avoid data leakage when we transform the\n",
    "data. A good way to avoid leakage is to use pipelines that standardize the data and build the\n",
    "model for each fold in the cross validation test harness. That way I can get a fair estimation\n",
    "of how each model with standardized data might perform on unseen data."
   ]
  },
  {
   "cell_type": "code",
   "execution_count": 150,
   "metadata": {},
   "outputs": [],
   "source": [
    "from sklearn.preprocessing import StandardScaler\n",
    "from sklearn.model_selection import GridSearchCV"
   ]
  },
  {
   "cell_type": "markdown",
   "metadata": {},
   "source": [
    "Another way that I can improve the performance of algorithms on this problem is by using\n",
    "ensemble methods. I will use the same test harness as before, 10-fold cross validation. No data standardization\n",
    "is used in this case because all four ensemble algorithms are based on decision trees that are\n",
    "less sensitive to data distributions.Unconstrained, individual trees are prone to overfitting, but this can be alleviated by ensemble methods."
   ]
  },
  {
   "cell_type": "code",
   "execution_count": 149,
   "metadata": {},
   "outputs": [
    {
     "name": "stdout",
     "output_type": "stream",
     "text": [
      "AB: 0.654679 (0.004882)\n",
      "GBM: 0.720614 (0.003838)\n",
      "RF: 0.986802 (0.001208)\n",
      "ET: 0.986745 (0.001192)\n"
     ]
    }
   ],
   "source": [
    "from sklearn.ensemble import AdaBoostClassifier\n",
    "from sklearn.ensemble import GradientBoostingClassifier\n",
    "from sklearn.ensemble import RandomForestClassifier\n",
    "from sklearn.ensemble import ExtraTreesClassifier\n",
    "ensembles = []\n",
    "ensembles.append(('AB', AdaBoostClassifier()))\n",
    "ensembles.append(('GBM', GradientBoostingClassifier()))\n",
    "ensembles.append(('RF', RandomForestClassifier()))\n",
    "ensembles.append(('ET', ExtraTreesClassifier()))\n",
    "results = []\n",
    "names = []\n",
    "for name, model in ensembles:\n",
    "    kfold = KFold(n_splits=num_folds, random_state=seed)\n",
    "    cv_results = cross_val_score(model, X_train, Y_train, cv=kfold, scoring=scoring)\n",
    "    results.append(cv_results)\n",
    "    names.append(name)\n",
    "    msg = \"%s: %f (%f)\" % (name, cv_results.mean(), cv_results.std())\n",
    "    print(msg)"
   ]
  },
  {
   "cell_type": "markdown",
   "metadata": {},
   "source": [
    "We can see that both bagging techniques provide strong accuracy scores in the upper 90s (%)\n",
    "with default configurations."
   ]
  },
  {
   "cell_type": "markdown",
   "metadata": {},
   "source": [
    "The Random Forest Classifier showed the most promise as a low biased and stable model for this problem with a flexible underlying structure. In\n",
    "this section I will finalize the model by training it on the entire training dataset and make\n",
    "predictions for the hold-out validation dataset to confirm our findings. A part of the findings was\n",
    "that Random Forest performs better when the dataset is standardized so that all attributes have a mean\n",
    "value of zero and a standard deviation of one. I could calculate this from the entire training\n",
    "dataset and apply the same transform to the input attributes from the validation dataset."
   ]
  },
  {
   "cell_type": "code",
   "execution_count": 154,
   "metadata": {},
   "outputs": [
    {
     "name": "stdout",
     "output_type": "stream",
     "text": [
      "0.987402955172\n",
      "[[19410   464]\n",
      " [   39 20017]]\n",
      "             precision    recall  f1-score   support\n",
      "\n",
      "        0.0       1.00      0.98      0.99     19874\n",
      "        1.0       0.98      1.00      0.99     20056\n",
      "\n",
      "avg / total       0.99      0.99      0.99     39930\n",
      "\n"
     ]
    }
   ],
   "source": [
    "scaler = StandardScaler().fit(X_train)\n",
    "rescaledX = scaler.transform(X_train)\n",
    "model = RandomForestClassifier()\n",
    "model.fit(rescaledX, Y_train)\n",
    "# estimate accuracy on validation dataset\n",
    "rescaledValidationX = scaler.transform(X_validation)\n",
    "predictions = model.predict(rescaledValidationX)\n",
    "print(accuracy_score(Y_validation, predictions))\n",
    "print(confusion_matrix(Y_validation, predictions))\n",
    "print(classification_report(Y_validation, predictions))"
   ]
  },
  {
   "cell_type": "markdown",
   "metadata": {},
   "source": [
    "The metrics that you choose to evaluate your machine learning algorithms are very important.\n",
    "Choice of metrics influences how the performance of machine learning algorithms is measured and compared.\n",
    "\n",
    "The confusion matrix is a handy presentation of the accuracy of a model with two or more classes.\n",
    "The table presents predictions on the x-axis and accuracy outcomes on the y-axis. The cells of the table are the number of predictions made by a machine learning algorithm.\n",
    "Scikit-learn does provide a convenience report when working on classification problems to give you a quick idea of the accuracy of a model using a number of measures."
   ]
  },
  {
   "cell_type": "code",
   "execution_count": 155,
   "metadata": {},
   "outputs": [
    {
     "name": "stdout",
     "output_type": "stream",
     "text": [
      "0.987354179054\n"
     ]
    }
   ],
   "source": [
    "from sklearn.metrics import roc_auc_score\n",
    "print(roc_auc_score(Y_validation, predictions))"
   ]
  },
  {
   "cell_type": "markdown",
   "metadata": {},
   "source": [
    "Area under ROC Curve (or AUC for short) is a performance metric for binary classification problems.\n",
    "The AUC represents a model’s ability to discriminate between positive and negative classes. An area of 1.0 represents a model that made all predictions perfectly. An area of 0.5 represents a model as good as random.\n",
    "ROC can be broken down into sensitivity and specificity. A binary classification problem is really a trade-off between sensitivity and specificity."
   ]
  },
  {
   "cell_type": "code",
   "execution_count": 163,
   "metadata": {},
   "outputs": [
    {
     "name": "stdout",
     "output_type": "stream",
     "text": [
      "Parameters currently in use:\n",
      "\n",
      "{'bootstrap': True,\n",
      " 'class_weight': None,\n",
      " 'criterion': 'gini',\n",
      " 'max_depth': None,\n",
      " 'max_features': 'auto',\n",
      " 'max_leaf_nodes': None,\n",
      " 'min_impurity_decrease': 0.0,\n",
      " 'min_impurity_split': None,\n",
      " 'min_samples_leaf': 1,\n",
      " 'min_samples_split': 2,\n",
      " 'min_weight_fraction_leaf': 0.0,\n",
      " 'n_estimators': 10,\n",
      " 'n_jobs': 1,\n",
      " 'oob_score': False,\n",
      " 'random_state': None,\n",
      " 'verbose': 0,\n",
      " 'warm_start': False}\n"
     ]
    }
   ],
   "source": [
    "from pprint import pprint\n",
    "# Look at parameters used by our current forest\n",
    "print('Parameters currently in use:\\n')\n",
    "pprint(model.get_params())"
   ]
  },
  {
   "cell_type": "markdown",
   "metadata": {},
   "source": [
    "We can further increase tune the hyperparamters of the model to make it more efficient. Usually, we only have a vague idea of the best hyperparameters and thus the best approach to narrow our search is to evaluate a wide range of values for each hyperparameter. Using Scikit-Learn’s RandomizedSearchCV method, we can define a grid of hyperparameter ranges, and randomly sample from the grid, performing K-Fold CV with each combination of values."
   ]
  },
  {
   "cell_type": "code",
   "execution_count": 164,
   "metadata": {},
   "outputs": [
    {
     "name": "stdout",
     "output_type": "stream",
     "text": [
      "{'bootstrap': [True, False],\n",
      " 'max_depth': [10, 20, 30, 40, 50, 60, 70, 80, 90, 100, 110, None],\n",
      " 'max_features': ['auto', 'sqrt'],\n",
      " 'min_samples_leaf': [1, 2, 4],\n",
      " 'min_samples_split': [2, 5, 10],\n",
      " 'n_estimators': [200, 400, 600, 800, 1000, 1200, 1400, 1600, 1800, 2000]}\n"
     ]
    }
   ],
   "source": [
    "from sklearn.model_selection import RandomizedSearchCV\n",
    "# Number of trees in random forest\n",
    "n_estimators = [int(x) for x in np.linspace(start = 200, stop = 2000, num = 10)]\n",
    "# Number of features to consider at every split\n",
    "max_features = ['auto', 'sqrt']\n",
    "# Maximum number of levels in tree\n",
    "max_depth = [int(x) for x in np.linspace(10, 110, num = 11)]\n",
    "max_depth.append(None)\n",
    "# Minimum number of samples required to split a node\n",
    "min_samples_split = [2, 5, 10]\n",
    "# Minimum number of samples required at each leaf node\n",
    "min_samples_leaf = [1, 2, 4]\n",
    "# Method of selecting samples for training each tree\n",
    "bootstrap = [True, False]\n",
    "# Create the random grid\n",
    "random_grid = {'n_estimators': n_estimators,\n",
    "               'max_features': max_features,\n",
    "               'max_depth': max_depth,\n",
    "               'min_samples_split': min_samples_split,\n",
    "               'min_samples_leaf': min_samples_leaf,\n",
    "               'bootstrap': bootstrap}\n",
    "pprint(random_grid)"
   ]
  },
  {
   "cell_type": "code",
   "execution_count": null,
   "metadata": {},
   "outputs": [],
   "source": [
    "# Use the random grid to search for best hyperparameters\n",
    "# First create the base model to tune\n",
    "rf = RandomForestClassifier()\n",
    "# Random search of parameters, using 3 fold cross validation, \n",
    "# search across 100 different combinations, and use all available cores\n",
    "rf_random = RandomizedSearchCV(estimator = rf, param_distributions = random_grid, n_iter = 100, cv = 3, verbose=2, random_state=42, n_jobs = -1)\n",
    "# Fit the random search model\n",
    "rf_random.fit(X_train,Y_train)\n",
    "rf_random.best_params_\n",
    "#Having some computational issues at the moment in my laptop,so not able to execute it at this time."
   ]
  },
  {
   "cell_type": "code",
   "execution_count": 169,
   "metadata": {
    "collapsed": true
   },
   "outputs": [],
   "source": [
    "import pickle"
   ]
  },
  {
   "cell_type": "code",
   "execution_count": 170,
   "metadata": {
    "collapsed": true
   },
   "outputs": [],
   "source": [
    "# save the model to disk\n",
    "filename = 'finalized_model.sav'\n",
    "pickle.dump(model, open(filename, 'wb'))"
   ]
  },
  {
   "cell_type": "code",
   "execution_count": null,
   "metadata": {
    "collapsed": true
   },
   "outputs": [],
   "source": []
  }
 ],
 "metadata": {
  "kernelspec": {
   "display_name": "Python 3",
   "language": "python",
   "name": "python3"
  },
  "language_info": {
   "codemirror_mode": {
    "name": "ipython",
    "version": 3
   },
   "file_extension": ".py",
   "mimetype": "text/x-python",
   "name": "python",
   "nbconvert_exporter": "python",
   "pygments_lexer": "ipython3",
   "version": "3.5.2"
  }
 },
 "nbformat": 4,
 "nbformat_minor": 2
}
